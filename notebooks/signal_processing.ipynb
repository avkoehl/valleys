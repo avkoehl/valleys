{
 "cells": [
  {
   "cell_type": "markdown",
   "id": "1d948756-640e-44ec-acb6-33cfbc1f342a",
   "metadata": {},
   "source": [
    "Functions for detecting change points in the cross section profiles.\n",
    "Two approaches: piecewise linear regression, detect peaks in smoothed curvature. \n",
    "In this case, curvature is the second derivative of the elevation profile, and not curvature from the elevation map directly. \n",
    "\n",
    "Then need to figure out the elevation of the valley bottom from these results.\n",
    "\n",
    "\n",
    "Useful resources:\n",
    "- https://gurobi-optimization-gurobi-optimods.readthedocs-hosted.com/en/latest/mods/lad-regression.html\n",
    "- https://pro.arcgis.com/en/pro-app/latest/tool-reference/space-time-pattern-mining/how-change-point-detection-works.htm#:~:text=Slope%20(Linear%20trend)%E2%80%94Detects,having%20the%20same%20standard%20deviation.\n",
    "- https://stackoverflow.com/questions/47519626/using-numpy-scipy-to-identify-slope-changes-in-digital-signals\n",
    "- https://docs.scipy.org/doc/scipy/reference/generated/scipy.signal.find_peaks_cwt.html\n",
    "- https://docs.scipy.org/doc/scipy/reference/signal.html\n",
    "- https://github.com/deepcharles/ruptures\n",
    "\n",
    "\n",
    "functions to implement:\n",
    "- slope threshold\n",
    "- linear regression (ols, lad) two piece\n",
    "- piece wise analysis\n",
    "- curvature analysis peak\n",
    "- curvature analysis waveforem\n",
    "- change point detection "
   ]
  },
  {
   "cell_type": "code",
   "execution_count": 1,
   "id": "36e5a17a-5dce-4dad-9c3b-ac5b2574c87a",
   "metadata": {},
   "outputs": [],
   "source": [
    "# load example signals (elevation and slope profiles)"
   ]
  },
  {
   "cell_type": "code",
   "execution_count": null,
   "id": "8d5c9706-8603-4d14-9be7-db1fbcc6cf9d",
   "metadata": {},
   "outputs": [],
   "source": []
  }
 ],
 "metadata": {
  "kernelspec": {
   "display_name": "valleys",
   "language": "python",
   "name": "valleys"
  },
  "language_info": {
   "codemirror_mode": {
    "name": "ipython",
    "version": 3
   },
   "file_extension": ".py",
   "mimetype": "text/x-python",
   "name": "python",
   "nbconvert_exporter": "python",
   "pygments_lexer": "ipython3",
   "version": "3.10.8"
  }
 },
 "nbformat": 4,
 "nbformat_minor": 5
}
