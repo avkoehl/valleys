{
 "cells": [
  {
   "cell_type": "code",
   "execution_count": 108,
   "id": "0fcdff5c-e7ee-4d2f-b0f5-281a423c4460",
   "metadata": {},
   "outputs": [],
   "source": [
    "import os\n",
    "import shutil\n",
    "\n",
    "import geopandas as gpd\n",
    "import matplotlib.pyplot as plt\n",
    "import numpy as np\n",
    "import pandas as pd\n",
    "import rasterio\n",
    "from rasterio.features import geometry_mask\n",
    "import rioxarray\n",
    "import scipy\n",
    "from shapely.geometry import shape, Polygon\n",
    "import xrspatial\n",
    "\n",
    "from valleys.utils import setup_wbt\n",
    "from valleys.utils import get_stream_raster_from_hillslope\n",
    "from valleys.utils import vectorize_stream\n",
    "from valleys.cross_section import preprocess_channel\n",
    "from valleys.cross_section import get_cross_section_points\n",
    "from valleys.terrain import get_terrain_features\n",
    "from valleys.breakpoints import get_break_points\n",
    "from valleys.breakpoints import map_valley_floor"
   ]
  },
  {
   "cell_type": "code",
   "execution_count": 115,
   "id": "5d4b9903-cc6a-4404-890a-f3fda963b294",
   "metadata": {},
   "outputs": [
    {
     "name": "stdout",
     "output_type": "stream",
     "text": [
      "The autoreload extension is already loaded. To reload it, use:\n",
      "  %reload_ext autoreload\n"
     ]
    }
   ],
   "source": [
    "%load_ext autoreload\n",
    "%autoreload 2"
   ]
  },
  {
   "cell_type": "code",
   "execution_count": 3,
   "id": "9c4a51eb-c62e-4f7f-8ce3-b508efef7958",
   "metadata": {},
   "outputs": [],
   "source": [
    "wbt = setup_wbt(os.path.expanduser(\"~/opt/WBT/\"), os.path.abspath(\"../data/wb_outputs/\"))"
   ]
  },
  {
   "cell_type": "code",
   "execution_count": 103,
   "id": "3a42f9b1-1fd7-4833-a87c-72dfd8ec0229",
   "metadata": {},
   "outputs": [],
   "source": [
    "def map_floor(wbt, dem, hs, simple_threshold=15, \n",
    "              xs_spacing=20, xs_width=400, xs_point_spacing=10, \n",
    "              peak_threshold=0.003, slope_threshold_bp =0.25, max_height=100,\n",
    "              quantile = 0.6, buffer=0, slope_threshold=20):\n",
    "\n",
    "    stream_binary = get_stream_raster_from_hillslope(wbt, hs)\n",
    "    stream = vectorize_stream(wbt, stream_binary)\n",
    "    centerline = preprocess_channel(stream, method='simplify', threshold=simple_threshold).iloc[0]\n",
    "    points = get_cross_section_points(centerline, xs_spacing=xs_spacing, xs_width=xs_width, xs_point_spacing=xs_point_spacing)\n",
    "    points, slope, curvature, hand = get_terrain_features(wbt, points, dem, hs)\n",
    "    break_points = get_break_points(points, peak_threshold=peak_threshold, slope_threshold=slope_threshold_bp)\n",
    "    break_points = break_points.loc[break_points['hand'] < max_height]\n",
    "\n",
    "    floor = map_valley_floor(break_points, hand, slope, quantile=0.6, buffer=0, slope_threshold=20)\n",
    "\n",
    "    return points, break_points, slope, curvature, hand, floor"
   ]
  },
  {
   "cell_type": "markdown",
   "id": "2c14b772-e739-4dca-9817-f1491a40a2c8",
   "metadata": {},
   "source": [
    "## Load in test valley"
   ]
  },
  {
   "cell_type": "code",
   "execution_count": 107,
   "id": "6e198838-7490-4b64-886e-1af51bea19e1",
   "metadata": {},
   "outputs": [],
   "source": [
    "# 1801, 12\n",
    "# 1807, 4\n",
    "# 1804, 22\n",
    "\n",
    "dem1 = rioxarray.open_rasterio(os.path.abspath(\"../data/huc12s/180101100904/subbasins/12.0_dem.tif\")).squeeze()\n",
    "dem2 = rioxarray.open_rasterio(os.path.abspath(\"../data/huc12s/180701020604/subbasins/4.0_dem.tif\")).squeeze()\n",
    "dem3 = rioxarray.open_rasterio(os.path.abspath(\"../data/huc12s/180400060403/subbasins/22.0_dem.tif\")).squeeze()\n",
    "\n",
    "hs1 = rioxarray.open_rasterio(os.path.abspath(\"../data/huc12s/180101100904/subbasins/12.0_hillslopes.tif\")).squeeze()\n",
    "hs2 = rioxarray.open_rasterio(os.path.abspath(\"../data/huc12s/180701020604/subbasins/4.0_hillslopes.tif\")).squeeze()\n",
    "hs3 = rioxarray.open_rasterio(os.path.abspath(\"../data/huc12s/180400060403/subbasins/22.0_hillslopes.tif\")).squeeze() "
   ]
  },
  {
   "cell_type": "markdown",
   "id": "006b661f-1620-4164-a0fb-24108d80f74c",
   "metadata": {},
   "source": [
    "## Make Figures"
   ]
  },
  {
   "cell_type": "code",
   "execution_count": 121,
   "id": "d2f8dc3f-fe63-4310-b695-fd54b8e3d05a",
   "metadata": {},
   "outputs": [
    {
     "name": "stderr",
     "output_type": "stream",
     "text": [
      "/Users/arthurkoehl/Library/Caches/pypoetry/virtualenvs/valleys-apqonAG6-py3.10/lib/python3.10/site-packages/geopandas/geoseries.py:645: FutureWarning: the convert_dtype parameter is deprecated and will be removed in a future version.  Do ``ser.astype(object).apply()`` instead if you want ``convert_dtype=False``.\n",
      "  result = super().apply(func, convert_dtype=convert_dtype, args=args, **kwargs)\n",
      "/Users/arthurkoehl/Library/Caches/pypoetry/virtualenvs/valleys-apqonAG6-py3.10/lib/python3.10/site-packages/xrspatial/hillshade.py:23: RuntimeWarning: invalid value encountered in sin\n",
      "  shaded = np.sin(altituderad) * np.sin(slope) + \\\n",
      "/Users/arthurkoehl/Library/Caches/pypoetry/virtualenvs/valleys-apqonAG6-py3.10/lib/python3.10/site-packages/xrspatial/hillshade.py:24: RuntimeWarning: invalid value encountered in cos\n",
      "  np.cos(altituderad) * np.cos(slope) * \\\n",
      "/Users/arthurkoehl/Library/Caches/pypoetry/virtualenvs/valleys-apqonAG6-py3.10/lib/python3.10/site-packages/xrspatial/hillshade.py:25: RuntimeWarning: invalid value encountered in cos\n",
      "  np.cos((azimuthrad - np.pi/2.) - aspect)\n"
     ]
    }
   ],
   "source": [
    "#if os.path.isdir(\"../data/figures/\"):\n",
    "#    shutil.rmtree(\"../data/figures/\")\n",
    "#os.mkdir(\"../data/figures/\")\n",
    "\n",
    "for i, (dem, hs) in enumerate(zip([dem1, dem2, dem3], [hs1, hs2, hs3])):\n",
    "    if i != 1:\n",
    "        continue\n",
    "    points, break_points, slope, curvature, hand, floor = map_floor(wbt, dem, hs)\n",
    "\n",
    "    hillshade = xrspatial.hillshade(dem)\n",
    "\n",
    "    fig, ax = plt.subplots(figsize=(12,12))\n",
    "    slope.plot(ax=ax)\n",
    "    break_points.plot(ax=ax, color='pink', markersize=3)\n",
    "    floor.dissolve().plot(ax=ax, facecolor='none', edgecolor='blue')\n",
    "    plt.savefig(f\"../data/figures/{i}_slope.png\")\n",
    "    plt.ioff()\n",
    "\n",
    "    fig, ax = plt.subplots(figsize=(12,12))\n",
    "    hillshade.plot(ax=ax, cmap='gray')\n",
    "    break_points.plot(ax=ax, color='pink', markersize=3)\n",
    "    floor.dissolve().plot(ax=ax, facecolor='none', edgecolor='blue')\n",
    "    plt.savefig(f\"../data/figures/{i}_hillshade.png\")\n",
    "    plt.ioff()"
   ]
  },
  {
   "cell_type": "code",
   "execution_count": null,
   "id": "534f7c81-a540-4ccf-a2f4-239ee1e3e9b2",
   "metadata": {},
   "outputs": [],
   "source": []
  }
 ],
 "metadata": {
  "kernelspec": {
   "display_name": "valleys",
   "language": "python",
   "name": "valleys"
  },
  "language_info": {
   "codemirror_mode": {
    "name": "ipython",
    "version": 3
   },
   "file_extension": ".py",
   "mimetype": "text/x-python",
   "name": "python",
   "nbconvert_exporter": "python",
   "pygments_lexer": "ipython3",
   "version": "3.10.9"
  }
 },
 "nbformat": 4,
 "nbformat_minor": 5
}
