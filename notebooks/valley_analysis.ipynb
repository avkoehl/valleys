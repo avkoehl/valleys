{
 "cells": [
  {
   "cell_type": "markdown",
   "id": "4767ffda-d314-4a3a-adfd-e19678155bc2",
   "metadata": {},
   "source": [
    "# Notebook Analyzing Valleys Extracted for 3 hand 10s using:\n",
    "\n",
    "handq75, buffer 3, slope 20\n",
    "\n",
    "**Idea is to understand what is actually being extracted, to determine impact of slope threshold, potential for finding elbows in the cdf of hand value, importance of a specific hand threhsold per segment, potential to learn relation between flow accumulation and hand threshold/slope threshold ...**\n",
    "\n",
    "create dataframe:  \n",
    "huc, subasinid, geometry, hand\n",
    "\n",
    "add:  \n",
    "valley_mean_width, hand_w_buffer, rim_hand_mean, slope_mean, upstream_area, [subbasin_slopes], [subbasin_hands], [valley_slopes], [valley_hands]\n",
    "\n",
    "for each region, plot:\n",
    "- distribution of slopes within valley floor\n",
    "- distribution of slopes within valley floor excluding channel\n",
    "- distribution of hand values within valley floor\n",
    "- hand values of rim\n",
    "- rim_hand vs upstream area\n",
    "- mean_slope vs upstream area\n",
    "- width vs slope\n",
    "- width vs upstream area\n",
    "\n",
    "foreach subbbasin:\n",
    "- hand cdf + rim_hand line, hand+buffer line, hand line"
   ]
  },
  {
   "cell_type": "code",
   "execution_count": 1,
   "id": "0369cbe4-ee8b-4ade-8a62-a484be935329",
   "metadata": {},
   "outputs": [],
   "source": [
    "# dem\n",
    "# valley_floors_shp\n",
    "# assume watershed is deterministic\n",
    "\n",
    "# dem -> watershed\n",
    "# for valley in valleys:\n",
    "#    get_valley_attributes\n",
    "\n",
    "# make df\n",
    "# merge with original df\n",
    "\n",
    "# repeat for all three watersheds\n",
    "# concat/stack dataframes\n",
    "\n",
    "# def get_valley_attributes(watershed.dataset, valley, subbasin_id):\n",
    "#   valley_mean_width --> (poly.area / poly.length)\n",
    "#   rim_hand_mean --> watershed.dataset.hand[poly.exterior.coords].mean()\n",
    "#   rim_slope_mean --> watershed.dataset.slope[poly.exterior.coords].mean()\n",
    "\n",
    "#   slopes = watershed.dataset.slope.clip(poly)\n",
    "#   hands = watershed.dataset.slope.clip(poly)\n",
    "#   slope_mean --> slopes.mean()\n",
    "#   valley_slopes --> slopes.values()\n",
    "#   valley_hands --> hands.values()\n",
    "#   \n",
    "#   subbbasin.dataset = watershed.clip_to(subbasin_id)\n",
    "#   subbasin_slopes --> subbasin.datset.slopes.values()\n",
    "#   subbasin_hands --> subbasin.dataset.hands.values()\n",
    "\n",
    "#   upstream_area --> subbasin.dataset.flow_acc.max()"
   ]
  },
  {
   "cell_type": "code",
   "execution_count": null,
   "id": "f0411a60-f8c9-4b69-8e15-c8bac1f80323",
   "metadata": {},
   "outputs": [],
   "source": []
  }
 ],
 "metadata": {
  "kernelspec": {
   "display_name": "valleys",
   "language": "python",
   "name": "valleys"
  },
  "language_info": {
   "codemirror_mode": {
    "name": "ipython",
    "version": 3
   },
   "file_extension": ".py",
   "mimetype": "text/x-python",
   "name": "python",
   "nbconvert_exporter": "python",
   "pygments_lexer": "ipython3",
   "version": "3.10.8"
  }
 },
 "nbformat": 4,
 "nbformat_minor": 5
}
