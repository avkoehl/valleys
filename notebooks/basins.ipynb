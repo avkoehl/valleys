{
 "cells": [
  {
   "cell_type": "markdown",
   "id": "6dd8731a-9b55-42a1-84e6-7fc8a82b3345",
   "metadata": {},
   "source": [
    "# Sub Basin Delineation\n",
    "\n",
    "We want the catchment unique to each reach (unnested). \n",
    "Once we have the catchments we can work on extracting the valley bottom.\n",
    "\n",
    "Both WhiteBoxTools (using subbasins) and GrassGIS (using r.watershed) can do this on a river network.\n",
    "\n",
    "Using NHD stream flowlines presents two challenges:\n",
    "1) How to handle when the flowline doesn't line up with the terrain\n",
    "2) How to handle creating pour points unique to each segment. Where two segments meet, they share a coordinate.\n",
    "\n",
    "For option 1) could try using the snap pour points tool on every single coordinate in the line segments. Then rasterize the line segments. Then continue with the workflow.\n",
    "\n",
    "For 2) I think the easiest is to delineate the catchments at the segment level, and only then do further splitting by assigning pour points at specified locations on the segment to delineate a reach (e.g every 1000m).\n",
    "\n",
    "Thus the workflow:\n",
    "- Create a stream network raster (either by thresholding flow accumulation, or from NHD vectors)\n",
    "- Run subbasins tool with input stream raster and d8 pointer\n",
    "- Further split the subbasins using pour points\n",
    "\n",
    "Alternatively, can start with the NHDPlus HUC12 Catchment boundaries. "
   ]
  },
  {
   "cell_type": "code",
   "execution_count": 44,
   "id": "d8f8f022-1551-4d3f-98c2-3a28bf218805",
   "metadata": {},
   "outputs": [],
   "source": [
    "import matplotlib.pyplot as plt\n",
    "from matplotlib.colors import ListedColormap\n",
    "import numpy as np\n",
    "import pandas as pd\n",
    "import geopandas as gpd\n",
    "import rioxarray \n",
    "import os\n",
    "import shutil\n",
    "import tempfile\n",
    "import whitebox\n",
    "import shapely"
   ]
  },
  {
   "cell_type": "code",
   "execution_count": 106,
   "id": "8692076b-363a-4cb1-8592-aee43d28ea1c",
   "metadata": {},
   "outputs": [],
   "source": [
    "# load toy data\n",
    "dem = rioxarray.open_rasterio('../toy_data/dem_3m.tif')"
   ]
  },
  {
   "cell_type": "markdown",
   "id": "6cbd0ae9-11ed-4aa3-9d31-47725f16913d",
   "metadata": {},
   "source": [
    "## WhiteBoxTools\n",
    "\n",
    "Workflow option 1:\n",
    " - Flow Accumulation (fill depressions, flow direction, flow accumulation)\n",
    " - Extract Streams (threshold flow accumulation)\n",
    " - SubBasins (input streams and flow direction)\n",
    "\n",
    "In order to have reaches and not just stream network segments need option 2:\n",
    "- Flow Accumulation\n",
    "- Extract Streams\n",
    "- Split Segments\n",
    "- Get pour points (end of segment)\n",
    "- Snap to flow accumulation (if using NHD)\n",
    "- Watershed tool\n",
    "- UnnestBasins (maybe not necessary)"
   ]
  },
  {
   "cell_type": "code",
   "execution_count": 107,
   "id": "507f27c5-f248-448c-a06b-6de536e01b0b",
   "metadata": {},
   "outputs": [
    {
     "data": {
      "text/plain": [
       "\"WhiteboxTools v2.3.0 (c) Dr. John Lindsay 2017-2023\\n\\nWhiteboxTools is an advanced geospatial data analysis platform developed at\\nthe University of Guelph's Geomorphometry and Hydrogeomatics Research \\nGroup (GHRG). See www.whiteboxgeo.com for more details.\\n\""
      ]
     },
     "execution_count": 107,
     "metadata": {},
     "output_type": "execute_result"
    }
   ],
   "source": [
    "def wb_wrapper(wbt_method, params, return_file=False):\n",
    "    \n",
    "    # for each param that is raster, save to file\n",
    "    for p,v in params.items():\n",
    "        if hasattr(v, 'rio'):\n",
    "            # write v to temp file\n",
    "            # update v to be the path to that file\n",
    "            temp_file = tempfile.NamedTemporaryFile(suffix=\".tif\")\n",
    "            v.rio.to_raster(temp_file.name, driver=\"GTiff\")\n",
    "            params[p] = temp_file.name\n",
    "                \n",
    "\n",
    "    # make function call\n",
    "    wbt_method(**params)\n",
    "\n",
    "    if return_file:\n",
    "        return params['output']\n",
    "\n",
    "    raster_file_path = params['output']\n",
    "    output_raster = rioxarray.open_rasterio(raster_file_path)\n",
    "    os.remove(raster_file_path)\n",
    "    return output_raster \n",
    "\n",
    "def my_callback(value):\n",
    "    if not \"%\" in value:\n",
    "        print(value)\n",
    "\n",
    "wbt = whitebox.WhiteboxTools()\n",
    "wbt.set_whitebox_dir(os.path.expanduser(\"~/opt/WBT/\"))\n",
    "\n",
    "working_directory = os.path.abspath(\"../data/whitebox_outputs/\")\n",
    "if os.path.exists(working_directory):\n",
    "    shutil.rmtree(working_directory)\n",
    "os.mkdir(working_directory)\n",
    "wbt.set_working_dir(os.path.abspath(working_directory))\n",
    "wbt.version()"
   ]
  },
  {
   "cell_type": "markdown",
   "id": "efa796a4-50e6-46c4-a7ba-9a3d6128c5ec",
   "metadata": {},
   "source": [
    "### Extract SubBasins"
   ]
  },
  {
   "cell_type": "code",
   "execution_count": 108,
   "id": "64026969-6fae-4405-b114-a1e5261dd474",
   "metadata": {},
   "outputs": [
    {
     "name": "stdout",
     "output_type": "stream",
     "text": [
      "./whitebox_tools --run=\"BreachDepressionsLeastCost\" --wd=\"/Users/arthurkoehl/programs/pasternack/valleys/data/whitebox_outputs\" --dem='/var/folders/n2/c76_7mv17f3fsmk9zkzn_k480000gn/T/tmpfpy1thby.tif' --output='/Users/arthurkoehl/programs/pasternack/valleys/data/whitebox_outputs/filled_dem.tif' --dist='1000' --min_dist --fill -v --compress_rasters=False\n",
      "\n",
      "*****************************************\n",
      "* Welcome to BreachDepressionsLeastCost *\n",
      "* Powered by WhiteboxTools              *\n",
      "* www.whiteboxgeo.com                   *\n",
      "*****************************************\n",
      "Reading data...\n",
      "Num. solved pits: 876\n",
      "Num. unsolved pits: 0\n",
      "Saving data...\n",
      "Output file written\n",
      "Elapsed Time (excluding I/O): 0.9s\n"
     ]
    },
    {
     "data": {
      "text/plain": [
       "'/Users/arthurkoehl/programs/pasternack/valleys/data/whitebox_outputs/filled_dem.tif'"
      ]
     },
     "execution_count": 108,
     "metadata": {},
     "output_type": "execute_result"
    }
   ],
   "source": [
    "# get flow direction and flow accumulation\n",
    "params = {\n",
    "    \"dem\": dem,\n",
    "    \"output\": os.path.join(working_directory, \"filled_dem.tif\"),\n",
    "    \"dist\": 1000,\n",
    "    \"max_cost\": None,\n",
    "    \"min_dist\": True,\n",
    "    \"flat_increment\": None,\n",
    "    \"fill\": True,\n",
    "    \"callback\": my_callback\n",
    "}\n",
    "\n",
    "filled_dem_file = wb_wrapper(wbt.breach_depressions_least_cost, params, return_file=True)\n",
    "filled_dem_file"
   ]
  },
  {
   "cell_type": "code",
   "execution_count": 109,
   "id": "1839ad0e-0680-4519-8626-10c1b7178e0b",
   "metadata": {},
   "outputs": [
    {
     "name": "stdout",
     "output_type": "stream",
     "text": [
      "./whitebox_tools --run=\"D8Pointer\" --wd=\"/Users/arthurkoehl/programs/pasternack/valleys/data/whitebox_outputs\" --dem='/Users/arthurkoehl/programs/pasternack/valleys/data/whitebox_outputs/filled_dem.tif' --output='/Users/arthurkoehl/programs/pasternack/valleys/data/whitebox_outputs/d8_pntr.tif' -v --compress_rasters=False\n",
      "\n",
      "****************************\n",
      "* Welcome to D8Pointer     *\n",
      "* Powered by WhiteboxTools *\n",
      "* www.whiteboxgeo.com      *\n",
      "****************************\n",
      "Reading data...\n",
      "Saving data...\n",
      "Output file written\n",
      "Elapsed Time (excluding I/O): 0.14s\n"
     ]
    },
    {
     "data": {
      "text/plain": [
       "'/Users/arthurkoehl/programs/pasternack/valleys/data/whitebox_outputs/d8_pntr.tif'"
      ]
     },
     "execution_count": 109,
     "metadata": {},
     "output_type": "execute_result"
    }
   ],
   "source": [
    "params = {\n",
    "    \"dem\": filled_dem_file, \n",
    "    \"output\": os.path.join(working_directory, \"d8_pntr.tif\"), \n",
    "    \"esri_pntr\": False, \n",
    "    \"callback\": my_callback\n",
    "}\n",
    "d8_pntr_file = wb_wrapper(wbt.d8_pointer, params, return_file=True)\n",
    "d8_pntr_file"
   ]
  },
  {
   "cell_type": "code",
   "execution_count": 110,
   "id": "b96179ae-e132-4dc3-a965-d47614f16a58",
   "metadata": {},
   "outputs": [
    {
     "name": "stdout",
     "output_type": "stream",
     "text": [
      "./whitebox_tools --run=\"D8FlowAccumulation\" --wd=\"/Users/arthurkoehl/programs/pasternack/valleys/data/whitebox_outputs\" --input='/Users/arthurkoehl/programs/pasternack/valleys/data/whitebox_outputs/d8_pntr.tif' --output='/Users/arthurkoehl/programs/pasternack/valleys/data/whitebox_outputs/d8_flow_acc.tif' --out_type=cells --pntr -v --compress_rasters=False\n",
      "\n",
      "*********************************\n",
      "* Welcome to D8FlowAccumulation *\n",
      "* Powered by WhiteboxTools      *\n",
      "* www.whiteboxgeo.com           *\n",
      "*********************************\n",
      "Reading data...\n",
      "Saving data...\n",
      "Output file written\n",
      "Elapsed Time (excluding I/O): 0.37s\n"
     ]
    }
   ],
   "source": [
    "params = {\n",
    "    \"i\": d8_pntr_file,\n",
    "    \"output\": os.path.join(working_directory, \"d8_flow_acc.tif\"),\n",
    "    \"out_type\": \"cells\",\n",
    "    \"log\": False,\n",
    "    \"clip\": False,\n",
    "    \"pntr\": True,\n",
    "    \"esri_pntr\": False,\n",
    "    \"callback\": my_callback\n",
    "}\n",
    "flow_acc = wb_wrapper(wbt.d8_flow_accumulation, params, return_file=False)"
   ]
  },
  {
   "cell_type": "code",
   "execution_count": 111,
   "id": "d5f9fb7f-3bff-4f14-8dad-e1360997710c",
   "metadata": {},
   "outputs": [
    {
     "data": {
      "text/plain": [
       "<matplotlib.collections.QuadMesh at 0x1749e9a50>"
      ]
     },
     "execution_count": 111,
     "metadata": {},
     "output_type": "execute_result"
    },
    {
     "data": {
      "image/png": "[encoded data removed]",
      "text/plain": [
       "<Figure size 640x480 with 2 Axes>"
      ]
     },
     "metadata": {},
     "output_type": "display_data"
    }
   ],
   "source": [
    "# decide on a threshold for flow accumulation\n",
    "threshold = 20000\n",
    "(flow_acc > threshold).plot()"
   ]
  },
  {
   "cell_type": "code",
   "execution_count": 179,
   "id": "bf4deb7d-4e67-402d-a380-9b88100c492a",
   "metadata": {},
   "outputs": [
    {
     "name": "stdout",
     "output_type": "stream",
     "text": [
      "./whitebox_tools --run=\"ExtractStreams\" --wd=\"/Users/arthurkoehl/programs/pasternack/valleys/data/whitebox_outputs\" --flow_accum='/var/folders/n2/c76_7mv17f3fsmk9zkzn_k480000gn/T/tmpx602o789.tif' --output='/Users/arthurkoehl/programs/pasternack/valleys/data/whitebox_outputs/streams.tif' --threshold='20000' -v --compress_rasters=False\n",
      "\n",
      "*****************************\n",
      "* Welcome to ExtractStreams *\n",
      "* Powered by WhiteboxTools  *\n",
      "* www.whiteboxgeo.com       *\n",
      "*****************************\n",
      "Reading data...\n",
      "Saving data...\n",
      "Output file written\n",
      "Elapsed Time (excluding I/O): 0.6s\n"
     ]
    }
   ],
   "source": [
    "params = {\n",
    "    \"flow_accum\": flow_acc,\n",
    "    \"output\": os.path.join(working_directory, \"streams.tif\"),\n",
    "    \"threshold\": threshold,\n",
    "    \"zero_background\": False,\n",
    "    \"callback\": my_callback\n",
    "}\n",
    "streams_file = wb_wrapper(wbt.extract_streams, params, return_file=True)"
   ]
  },
  {
   "cell_type": "code",
   "execution_count": 209,
   "id": "5828f174-1aad-4569-8757-cffcbeb70f40",
   "metadata": {},
   "outputs": [
    {
     "name": "stdout",
     "output_type": "stream",
     "text": [
      "./whitebox_tools --run=\"Subbasins\" --wd=\"/Users/arthurkoehl/programs/pasternack/valleys/data/whitebox_outputs\" --d8_pntr='/Users/arthurkoehl/programs/pasternack/valleys/data/whitebox_outputs/d8_pntr.tif' --streams='/Users/arthurkoehl/programs/pasternack/valleys/data/whitebox_outputs/streams.tif' --output='/Users/arthurkoehl/programs/pasternack/valleys/data/whitebox_outputs/subbasins.tif' -v --compress_rasters=False\n",
      "\n",
      "****************************\n",
      "* Welcome to Subbasins     *\n",
      "* Powered by WhiteboxTools *\n",
      "* www.whiteboxgeo.com      *\n",
      "****************************\n",
      "Reading data...\n",
      "Saving data...\n",
      "Output file written\n",
      "Elapsed Time (excluding I/O): 0.42s\n"
     ]
    }
   ],
   "source": [
    "params = {\n",
    "    'd8_pntr': d8_pntr_file, \n",
    "    'streams': streams_file, \n",
    "    'output': os.path.join(working_directory, \"subbasins.tif\"), \n",
    "    'esri_pntr': False, \n",
    "    'callback': my_callback\n",
    "}\n",
    "basins = wb_wrapper(wbt.subbasins, params, return_file=False)"
   ]
  },
  {
   "cell_type": "code",
   "execution_count": 117,
   "id": "b3cc5351-1bb1-4c2d-8b61-5ef508c13d6a",
   "metadata": {},
   "outputs": [
    {
     "data": {
      "text/plain": [
       "<matplotlib.collections.QuadMesh at 0x2bdb52d40>"
      ]
     },
     "execution_count": 117,
     "metadata": {},
     "output_type": "execute_result"
    },
    {
     "data": {
      "image/png": "[encoded data removed]",
      "text/plain": [
       "<Figure size 640x480 with 2 Axes>"
      ]
     },
     "metadata": {},
     "output_type": "display_data"
    }
   ],
   "source": [
    "basins.data[basins.data == -32768] = 0\n",
    "basins.plot(cmap='tab20')"
   ]
  },
  {
   "cell_type": "markdown",
   "id": "6447a3e5-c6cd-4a65-967c-5486873ca857",
   "metadata": {},
   "source": [
    "## Split into Reaches\n",
    "\n",
    "Want to create polygon boundaries for each subbasin\n",
    "- either use geocube https://github.com/corteva/geocube/blob/master/docs/examples/vectorize.ipynb\n",
    "- or https://rasterio.readthedocs.io/en/latest/topics/features.html\n",
    "    \n",
    "Given one subbasin polygon, clip the dem and the flowlines vectors\n",
    "split the flowline (should only be one in the polygon) into equal length segments to get the pour points\n",
    "run watershed\n"
   ]
  },
  {
   "cell_type": "code",
   "execution_count": 190,
   "id": "9c6355c0-3fa5-49ef-a276-71e9f08e45e3",
   "metadata": {},
   "outputs": [
    {
     "name": "stdout",
     "output_type": "stream",
     "text": [
      "./whitebox_tools --run=\"RasterStreamsToVector\" --wd=\"/Users/arthurkoehl/programs/pasternack/valleys/data/whitebox_outputs\" --streams='/Users/arthurkoehl/programs/pasternack/valleys/data/whitebox_outputs/streams.tif' --d8_pntr='/Users/arthurkoehl/programs/pasternack/valleys/data/whitebox_outputs/d8_pntr.tif' --output='/Users/arthurkoehl/programs/pasternack/valleys/data/whitebox_outputs/streams.shp' -v --compress_rasters=False\n",
      "\n",
      "************************************\n",
      "* Welcome to RasterStreamsToVector *\n",
      "* Powered by WhiteboxTools         *\n",
      "* www.whiteboxgeo.com              *\n",
      "************************************\n",
      "Reading pointer data...\n",
      "Reading streams data...\n",
      "Saving data...\n",
      "Output file written\n",
      "Elapsed Time (excluding I/O): 0.3s\n"
     ]
    }
   ],
   "source": [
    "params = {\n",
    "    'streams': streams_file, \n",
    "    'd8_pntr': d8_pntr_file, \n",
    "    'output': os.path.join(working_directory, \"streams.shp\"), \n",
    "    'esri_pntr': False, \n",
    "    'callback': my_callback\n",
    "}\n",
    "streams_shp_file = wb_wrapper(wbt.raster_streams_to_vector, params, return_file=True)"
   ]
  },
  {
   "cell_type": "code",
   "execution_count": 253,
   "id": "811754f5-c097-4529-92b2-98b05ee3fe8d",
   "metadata": {},
   "outputs": [],
   "source": [
    "import pprint\n",
    "import rasterio\n",
    "from rasterio import features\n",
    "\n",
    "basins.rio.to_raster('../data/whitebox_outputs/subbasins.tif', driver=\"GTiff\")\n",
    "with rasterio.open(os.path.join(working_directory, 'subbasins.tif')) as src:\n",
    "    b = src.read(1)\n",
    "\n",
    "mask = b != -32768\n",
    "shapes = features.shapes(b, mask=mask, transform=src.transform)\n",
    "\n",
    "records = []\n",
    "for shape,id in shapes:\n",
    "    coords = shape['coordinates'][0]\n",
    "    poly = shapely.Polygon(coords)\n",
    "    records.append({'id': id, 'geometry': poly})\n",
    "basin_polygons = gpd.GeoDataFrame.from_records(records)"
   ]
  },
  {
   "cell_type": "code",
   "execution_count": 254,
   "id": "79d7f80a-5012-45e0-965c-3709a371ae26",
   "metadata": {},
   "outputs": [
    {
     "data": {
      "text/html": [
       "<div>\n",
       "<style scoped>\n",
       "    .dataframe tbody tr th:only-of-type {\n",
       "        vertical-align: middle;\n",
       "    }\n",
       "\n",
       "    .dataframe tbody tr th {\n",
       "        vertical-align: top;\n",
       "    }\n",
       "\n",
       "    .dataframe thead th {\n",
       "        text-align: right;\n",
       "    }\n",
       "</style>\n",
       "<table border=\"1\" class=\"dataframe\">\n",
       "  <thead>\n",
       "    <tr style=\"text-align: right;\">\n",
       "      <th></th>\n",
       "      <th>id</th>\n",
       "      <th>geometry</th>\n",
       "    </tr>\n",
       "  </thead>\n",
       "  <tbody>\n",
       "    <tr>\n",
       "      <th>0</th>\n",
       "      <td>17.0</td>\n",
       "      <td>POLYGON ((-197817.819 -101962.722, -197817.819...</td>\n",
       "    </tr>\n",
       "    <tr>\n",
       "      <th>1</th>\n",
       "      <td>2.0</td>\n",
       "      <td>POLYGON ((-198420.269 -101749.916, -198393.293...</td>\n",
       "    </tr>\n",
       "    <tr>\n",
       "      <th>2</th>\n",
       "      <td>15.0</td>\n",
       "      <td>POLYGON ((-197751.879 -102601.139, -197751.879...</td>\n",
       "    </tr>\n",
       "    <tr>\n",
       "      <th>3</th>\n",
       "      <td>15.0</td>\n",
       "      <td>POLYGON ((-197754.876 -102604.136, -197754.876...</td>\n",
       "    </tr>\n",
       "  </tbody>\n",
       "</table>\n",
       "</div>"
      ],
      "text/plain": [
       "     id                                           geometry\n",
       "0  17.0  POLYGON ((-197817.819 -101962.722, -197817.819...\n",
       "1   2.0  POLYGON ((-198420.269 -101749.916, -198393.293...\n",
       "2  15.0  POLYGON ((-197751.879 -102601.139, -197751.879...\n",
       "3  15.0  POLYGON ((-197754.876 -102604.136, -197754.876..."
      ]
     },
     "execution_count": 254,
     "metadata": {},
     "output_type": "execute_result"
    }
   ],
   "source": [
    "basin_polygons.head(4)"
   ]
  },
  {
   "cell_type": "code",
   "execution_count": 245,
   "id": "0e8ace85-e812-460d-87d3-0dcab22ab143",
   "metadata": {},
   "outputs": [
    {
     "data": {
      "text/plain": [
       "<Axes: >"
      ]
     },
     "execution_count": 245,
     "metadata": {},
     "output_type": "execute_result"
    },
    {
     "data": {
      "image/png": "[encoded data removed]",
      "text/plain": [
       "<Figure size 640x480 with 1 Axes>"
      ]
     },
     "metadata": {},
     "output_type": "display_data"
    }
   ],
   "source": [
    "basin_polygons.plot(cmap='rainbow', edgecolor='black')"
   ]
  },
  {
   "cell_type": "code",
   "execution_count": 250,
   "id": "f025bc53-f6c9-43ad-b5b2-1f502e4666a5",
   "metadata": {},
   "outputs": [],
   "source": [
    "test_basin_id = 12"
   ]
  },
  {
   "cell_type": "code",
   "execution_count": 251,
   "id": "4bc94896-9a77-40f3-b03d-e0e05cdacf21",
   "metadata": {},
   "outputs": [
    {
     "data": {
      "text/html": [
       "<div>\n",
       "<style scoped>\n",
       "    .dataframe tbody tr th:only-of-type {\n",
       "        vertical-align: middle;\n",
       "    }\n",
       "\n",
       "    .dataframe tbody tr th {\n",
       "        vertical-align: top;\n",
       "    }\n",
       "\n",
       "    .dataframe thead th {\n",
       "        text-align: right;\n",
       "    }\n",
       "</style>\n",
       "<table border=\"1\" class=\"dataframe\">\n",
       "  <thead>\n",
       "    <tr style=\"text-align: right;\">\n",
       "      <th></th>\n",
       "      <th>id</th>\n",
       "      <th>geometry</th>\n",
       "    </tr>\n",
       "  </thead>\n",
       "  <tbody>\n",
       "    <tr>\n",
       "      <th>26</th>\n",
       "      <td>12.0</td>\n",
       "      <td>POLYGON ((-197835.802 -103848.000, -197835.802...</td>\n",
       "    </tr>\n",
       "    <tr>\n",
       "      <th>27</th>\n",
       "      <td>12.0</td>\n",
       "      <td>POLYGON ((-197838.800 -103850.997, -197838.800...</td>\n",
       "    </tr>\n",
       "    <tr>\n",
       "      <th>32</th>\n",
       "      <td>12.0</td>\n",
       "      <td>POLYGON ((-197808.827 -103731.106, -197790.844...</td>\n",
       "    </tr>\n",
       "  </tbody>\n",
       "</table>\n",
       "</div>"
      ],
      "text/plain": [
       "      id                                           geometry\n",
       "26  12.0  POLYGON ((-197835.802 -103848.000, -197835.802...\n",
       "27  12.0  POLYGON ((-197838.800 -103850.997, -197838.800...\n",
       "32  12.0  POLYGON ((-197808.827 -103731.106, -197790.844..."
      ]
     },
     "execution_count": 251,
     "metadata": {},
     "output_type": "execute_result"
    }
   ],
   "source": [
    "basin_polygons[basin_polygons['id'] == test_basin_id]"
   ]
  },
  {
   "cell_type": "code",
   "execution_count": 255,
   "id": "62fa69d6-e6bb-496e-b1d2-da6779fc85cc",
   "metadata": {},
   "outputs": [
    {
     "data": {
      "text/html": [
       "<div>\n",
       "<style scoped>\n",
       "    .dataframe tbody tr th:only-of-type {\n",
       "        vertical-align: middle;\n",
       "    }\n",
       "\n",
       "    .dataframe tbody tr th {\n",
       "        vertical-align: top;\n",
       "    }\n",
       "\n",
       "    .dataframe thead th {\n",
       "        text-align: right;\n",
       "    }\n",
       "</style>\n",
       "<table border=\"1\" class=\"dataframe\">\n",
       "  <thead>\n",
       "    <tr style=\"text-align: right;\">\n",
       "      <th></th>\n",
       "      <th>geometry</th>\n",
       "    </tr>\n",
       "    <tr>\n",
       "      <th>id</th>\n",
       "      <th></th>\n",
       "    </tr>\n",
       "  </thead>\n",
       "  <tbody>\n",
       "    <tr>\n",
       "      <th>0.0</th>\n",
       "      <td>POLYGON ((-198893.836 -101740.925, -198893.836...</td>\n",
       "    </tr>\n",
       "    <tr>\n",
       "      <th>1.0</th>\n",
       "      <td>MULTIPOLYGON (((-196612.920 -102619.122, -1966...</td>\n",
       "    </tr>\n",
       "    <tr>\n",
       "      <th>2.0</th>\n",
       "      <td>POLYGON ((-198420.269 -101749.916, -198393.293...</td>\n",
       "    </tr>\n",
       "    <tr>\n",
       "      <th>3.0</th>\n",
       "      <td>MULTIPOLYGON (((-196169.325 -103020.755, -1961...</td>\n",
       "    </tr>\n",
       "    <tr>\n",
       "      <th>4.0</th>\n",
       "      <td>POLYGON ((-198594.110 -102157.544, -198591.112...</td>\n",
       "    </tr>\n",
       "    <tr>\n",
       "      <th>5.0</th>\n",
       "      <td>POLYGON ((-197182.399 -102373.347, -197170.410...</td>\n",
       "    </tr>\n",
       "    <tr>\n",
       "      <th>6.0</th>\n",
       "      <td>POLYGON ((-197640.980 -101767.900, -197625.994...</td>\n",
       "    </tr>\n",
       "    <tr>\n",
       "      <th>7.0</th>\n",
       "      <td>POLYGON ((-195315.105 -102736.016, -195312.108...</td>\n",
       "    </tr>\n",
       "    <tr>\n",
       "      <th>8.0</th>\n",
       "      <td>MULTIPOLYGON (((-198645.063 -103416.394, -1986...</td>\n",
       "    </tr>\n",
       "    <tr>\n",
       "      <th>9.0</th>\n",
       "      <td>POLYGON ((-195333.089 -103452.361, -195330.092...</td>\n",
       "    </tr>\n",
       "    <tr>\n",
       "      <th>10.0</th>\n",
       "      <td>MULTIPOLYGON (((-197835.802 -103868.980, -1978...</td>\n",
       "    </tr>\n",
       "    <tr>\n",
       "      <th>12.0</th>\n",
       "      <td>MULTIPOLYGON (((-197790.844 -103731.106, -1977...</td>\n",
       "    </tr>\n",
       "    <tr>\n",
       "      <th>13.0</th>\n",
       "      <td>POLYGON ((-197706.920 -103455.358, -197703.923...</td>\n",
       "    </tr>\n",
       "    <tr>\n",
       "      <th>14.0</th>\n",
       "      <td>POLYGON ((-196310.196 -102304.410, -196289.215...</td>\n",
       "    </tr>\n",
       "    <tr>\n",
       "      <th>15.0</th>\n",
       "      <td>MULTIPOLYGON (((-197757.874 -102625.117, -1977...</td>\n",
       "    </tr>\n",
       "    <tr>\n",
       "      <th>16.0</th>\n",
       "      <td>POLYGON ((-197548.065 -102232.476, -197545.068...</td>\n",
       "    </tr>\n",
       "    <tr>\n",
       "      <th>17.0</th>\n",
       "      <td>MULTIPOLYGON (((-197850.789 -101965.719, -1978...</td>\n",
       "    </tr>\n",
       "    <tr>\n",
       "      <th>18.0</th>\n",
       "      <td>POLYGON ((-197979.671 -103644.186, -197910.734...</td>\n",
       "    </tr>\n",
       "    <tr>\n",
       "      <th>19.0</th>\n",
       "      <td>MULTIPOLYGON (((-197587.030 -103104.679, -1975...</td>\n",
       "    </tr>\n",
       "  </tbody>\n",
       "</table>\n",
       "</div>"
      ],
      "text/plain": [
       "                                               geometry\n",
       "id                                                     \n",
       "0.0   POLYGON ((-198893.836 -101740.925, -198893.836...\n",
       "1.0   MULTIPOLYGON (((-196612.920 -102619.122, -1966...\n",
       "2.0   POLYGON ((-198420.269 -101749.916, -198393.293...\n",
       "3.0   MULTIPOLYGON (((-196169.325 -103020.755, -1961...\n",
       "4.0   POLYGON ((-198594.110 -102157.544, -198591.112...\n",
       "5.0   POLYGON ((-197182.399 -102373.347, -197170.410...\n",
       "6.0   POLYGON ((-197640.980 -101767.900, -197625.994...\n",
       "7.0   POLYGON ((-195315.105 -102736.016, -195312.108...\n",
       "8.0   MULTIPOLYGON (((-198645.063 -103416.394, -1986...\n",
       "9.0   POLYGON ((-195333.089 -103452.361, -195330.092...\n",
       "10.0  MULTIPOLYGON (((-197835.802 -103868.980, -1978...\n",
       "12.0  MULTIPOLYGON (((-197790.844 -103731.106, -1977...\n",
       "13.0  POLYGON ((-197706.920 -103455.358, -197703.923...\n",
       "14.0  POLYGON ((-196310.196 -102304.410, -196289.215...\n",
       "15.0  MULTIPOLYGON (((-197757.874 -102625.117, -1977...\n",
       "16.0  POLYGON ((-197548.065 -102232.476, -197545.068...\n",
       "17.0  MULTIPOLYGON (((-197850.789 -101965.719, -1978...\n",
       "18.0  POLYGON ((-197979.671 -103644.186, -197910.734...\n",
       "19.0  MULTIPOLYGON (((-197587.030 -103104.679, -1975..."
      ]
     },
     "execution_count": 255,
     "metadata": {},
     "output_type": "execute_result"
    }
   ],
   "source": [
    "ids = basin_polygons.dissolve(by='id')\n",
    "ids"
   ]
  },
  {
   "cell_type": "code",
   "execution_count": 263,
   "id": "1604bdb6-f05f-452d-b96e-27e15e99a2c7",
   "metadata": {},
   "outputs": [
    {
     "name": "stderr",
     "output_type": "stream",
     "text": [
      "/var/folders/n2/c76_7mv17f3fsmk9zkzn_k480000gn/T/ipykernel_96486/3582818835.py:1: FutureWarning: Currently, index_parts defaults to True, but in the future, it will default to False to be consistent with Pandas. Use `index_parts=True` to keep the current behavior and True/False to silence the warning.\n",
      "  ids.explode()\n"
     ]
    },
    {
     "data": {
      "text/html": [
       "<div>\n",
       "<style scoped>\n",
       "    .dataframe tbody tr th:only-of-type {\n",
       "        vertical-align: middle;\n",
       "    }\n",
       "\n",
       "    .dataframe tbody tr th {\n",
       "        vertical-align: top;\n",
       "    }\n",
       "\n",
       "    .dataframe thead th {\n",
       "        text-align: right;\n",
       "    }\n",
       "</style>\n",
       "<table border=\"1\" class=\"dataframe\">\n",
       "  <thead>\n",
       "    <tr style=\"text-align: right;\">\n",
       "      <th></th>\n",
       "      <th></th>\n",
       "      <th>geometry</th>\n",
       "    </tr>\n",
       "    <tr>\n",
       "      <th>id</th>\n",
       "      <th></th>\n",
       "      <th></th>\n",
       "    </tr>\n",
       "  </thead>\n",
       "  <tbody>\n",
       "    <tr>\n",
       "      <th>0.0</th>\n",
       "      <th>0</th>\n",
       "      <td>POLYGON ((-198893.836 -101740.925, -198893.836...</td>\n",
       "    </tr>\n",
       "    <tr>\n",
       "      <th rowspan=\"2\" valign=\"top\">1.0</th>\n",
       "      <th>0</th>\n",
       "      <td>POLYGON ((-196612.920 -102619.122, -196612.920...</td>\n",
       "    </tr>\n",
       "    <tr>\n",
       "      <th>1</th>\n",
       "      <td>POLYGON ((-197497.112 -101770.897, -197497.112...</td>\n",
       "    </tr>\n",
       "    <tr>\n",
       "      <th>2.0</th>\n",
       "      <th>0</th>\n",
       "      <td>POLYGON ((-198420.269 -101749.916, -198393.293...</td>\n",
       "    </tr>\n",
       "    <tr>\n",
       "      <th rowspan=\"4\" valign=\"top\">3.0</th>\n",
       "      <th>0</th>\n",
       "      <td>POLYGON ((-196169.325 -103020.755, -196169.325...</td>\n",
       "    </tr>\n",
       "    <tr>\n",
       "      <th>1</th>\n",
       "      <td>POLYGON ((-196163.330 -103014.761, -196163.330...</td>\n",
       "    </tr>\n",
       "    <tr>\n",
       "      <th>2</th>\n",
       "      <td>POLYGON ((-196163.330 -103014.761, -196163.330...</td>\n",
       "    </tr>\n",
       "    <tr>\n",
       "      <th>3</th>\n",
       "      <td>POLYGON ((-195704.749 -101815.856, -195578.864...</td>\n",
       "    </tr>\n",
       "    <tr>\n",
       "      <th>4.0</th>\n",
       "      <th>0</th>\n",
       "      <td>POLYGON ((-198594.110 -102157.544, -198591.112...</td>\n",
       "    </tr>\n",
       "    <tr>\n",
       "      <th>5.0</th>\n",
       "      <th>0</th>\n",
       "      <td>POLYGON ((-197182.399 -102373.347, -197170.410...</td>\n",
       "    </tr>\n",
       "    <tr>\n",
       "      <th>6.0</th>\n",
       "      <th>0</th>\n",
       "      <td>POLYGON ((-197640.980 -101767.900, -197625.994...</td>\n",
       "    </tr>\n",
       "    <tr>\n",
       "      <th>7.0</th>\n",
       "      <th>0</th>\n",
       "      <td>POLYGON ((-195315.105 -102736.016, -195312.108...</td>\n",
       "    </tr>\n",
       "    <tr>\n",
       "      <th rowspan=\"5\" valign=\"top\">8.0</th>\n",
       "      <th>0</th>\n",
       "      <td>POLYGON ((-198645.063 -103416.394, -198600.104...</td>\n",
       "    </tr>\n",
       "    <tr>\n",
       "      <th>1</th>\n",
       "      <td>POLYGON ((-198015.638 -103497.320, -198015.638...</td>\n",
       "    </tr>\n",
       "    <tr>\n",
       "      <th>2</th>\n",
       "      <td>POLYGON ((-198015.638 -103497.320, -198015.638...</td>\n",
       "    </tr>\n",
       "    <tr>\n",
       "      <th>3</th>\n",
       "      <td>POLYGON ((-198012.641 -103491.325, -198009.644...</td>\n",
       "    </tr>\n",
       "    <tr>\n",
       "      <th>4</th>\n",
       "      <td>POLYGON ((-198006.646 -103491.325, -198009.644...</td>\n",
       "    </tr>\n",
       "    <tr>\n",
       "      <th>9.0</th>\n",
       "      <th>0</th>\n",
       "      <td>POLYGON ((-195333.089 -103452.361, -195330.092...</td>\n",
       "    </tr>\n",
       "    <tr>\n",
       "      <th rowspan=\"2\" valign=\"top\">10.0</th>\n",
       "      <th>0</th>\n",
       "      <td>POLYGON ((-197835.802 -103868.980, -197838.800...</td>\n",
       "    </tr>\n",
       "    <tr>\n",
       "      <th>1</th>\n",
       "      <td>POLYGON ((-197275.315 -103521.298, -197275.315...</td>\n",
       "    </tr>\n",
       "    <tr>\n",
       "      <th rowspan=\"3\" valign=\"top\">12.0</th>\n",
       "      <th>0</th>\n",
       "      <td>POLYGON ((-197790.844 -103731.106, -197790.844...</td>\n",
       "    </tr>\n",
       "    <tr>\n",
       "      <th>1</th>\n",
       "      <td>POLYGON ((-197838.800 -103865.983, -197838.800...</td>\n",
       "    </tr>\n",
       "    <tr>\n",
       "      <th>2</th>\n",
       "      <td>POLYGON ((-197832.805 -103848.000, -197832.805...</td>\n",
       "    </tr>\n",
       "    <tr>\n",
       "      <th>13.0</th>\n",
       "      <th>0</th>\n",
       "      <td>POLYGON ((-197706.920 -103455.358, -197703.923...</td>\n",
       "    </tr>\n",
       "    <tr>\n",
       "      <th>14.0</th>\n",
       "      <th>0</th>\n",
       "      <td>POLYGON ((-196310.196 -102304.410, -196289.215...</td>\n",
       "    </tr>\n",
       "    <tr>\n",
       "      <th rowspan=\"4\" valign=\"top\">15.0</th>\n",
       "      <th>0</th>\n",
       "      <td>POLYGON ((-197757.874 -102625.117, -197760.871...</td>\n",
       "    </tr>\n",
       "    <tr>\n",
       "      <th>1</th>\n",
       "      <td>POLYGON ((-197754.876 -102607.133, -197754.876...</td>\n",
       "    </tr>\n",
       "    <tr>\n",
       "      <th>2</th>\n",
       "      <td>POLYGON ((-197754.876 -102607.133, -197754.876...</td>\n",
       "    </tr>\n",
       "    <tr>\n",
       "      <th>3</th>\n",
       "      <td>POLYGON ((-197748.882 -102601.139, -197748.882...</td>\n",
       "    </tr>\n",
       "    <tr>\n",
       "      <th>16.0</th>\n",
       "      <th>0</th>\n",
       "      <td>POLYGON ((-197548.065 -102232.476, -197545.068...</td>\n",
       "    </tr>\n",
       "    <tr>\n",
       "      <th rowspan=\"2\" valign=\"top\">17.0</th>\n",
       "      <th>0</th>\n",
       "      <td>POLYGON ((-197850.789 -101965.719, -197850.789...</td>\n",
       "    </tr>\n",
       "    <tr>\n",
       "      <th>1</th>\n",
       "      <td>POLYGON ((-197817.819 -101962.722, -197814.822...</td>\n",
       "    </tr>\n",
       "    <tr>\n",
       "      <th>18.0</th>\n",
       "      <th>0</th>\n",
       "      <td>POLYGON ((-197979.671 -103644.186, -197910.734...</td>\n",
       "    </tr>\n",
       "    <tr>\n",
       "      <th rowspan=\"2\" valign=\"top\">19.0</th>\n",
       "      <th>0</th>\n",
       "      <td>POLYGON ((-197587.030 -103104.679, -197587.030...</td>\n",
       "    </tr>\n",
       "    <tr>\n",
       "      <th>1</th>\n",
       "      <td>POLYGON ((-198000.652 -103206.586, -197997.655...</td>\n",
       "    </tr>\n",
       "  </tbody>\n",
       "</table>\n",
       "</div>"
      ],
      "text/plain": [
       "                                                 geometry\n",
       "id                                                       \n",
       "0.0  0  POLYGON ((-198893.836 -101740.925, -198893.836...\n",
       "1.0  0  POLYGON ((-196612.920 -102619.122, -196612.920...\n",
       "     1  POLYGON ((-197497.112 -101770.897, -197497.112...\n",
       "2.0  0  POLYGON ((-198420.269 -101749.916, -198393.293...\n",
       "3.0  0  POLYGON ((-196169.325 -103020.755, -196169.325...\n",
       "     1  POLYGON ((-196163.330 -103014.761, -196163.330...\n",
       "     2  POLYGON ((-196163.330 -103014.761, -196163.330...\n",
       "     3  POLYGON ((-195704.749 -101815.856, -195578.864...\n",
       "4.0  0  POLYGON ((-198594.110 -102157.544, -198591.112...\n",
       "5.0  0  POLYGON ((-197182.399 -102373.347, -197170.410...\n",
       "6.0  0  POLYGON ((-197640.980 -101767.900, -197625.994...\n",
       "7.0  0  POLYGON ((-195315.105 -102736.016, -195312.108...\n",
       "8.0  0  POLYGON ((-198645.063 -103416.394, -198600.104...\n",
       "     1  POLYGON ((-198015.638 -103497.320, -198015.638...\n",
       "     2  POLYGON ((-198015.638 -103497.320, -198015.638...\n",
       "     3  POLYGON ((-198012.641 -103491.325, -198009.644...\n",
       "     4  POLYGON ((-198006.646 -103491.325, -198009.644...\n",
       "9.0  0  POLYGON ((-195333.089 -103452.361, -195330.092...\n",
       "10.0 0  POLYGON ((-197835.802 -103868.980, -197838.800...\n",
       "     1  POLYGON ((-197275.315 -103521.298, -197275.315...\n",
       "12.0 0  POLYGON ((-197790.844 -103731.106, -197790.844...\n",
       "     1  POLYGON ((-197838.800 -103865.983, -197838.800...\n",
       "     2  POLYGON ((-197832.805 -103848.000, -197832.805...\n",
       "13.0 0  POLYGON ((-197706.920 -103455.358, -197703.923...\n",
       "14.0 0  POLYGON ((-196310.196 -102304.410, -196289.215...\n",
       "15.0 0  POLYGON ((-197757.874 -102625.117, -197760.871...\n",
       "     1  POLYGON ((-197754.876 -102607.133, -197754.876...\n",
       "     2  POLYGON ((-197754.876 -102607.133, -197754.876...\n",
       "     3  POLYGON ((-197748.882 -102601.139, -197748.882...\n",
       "16.0 0  POLYGON ((-197548.065 -102232.476, -197545.068...\n",
       "17.0 0  POLYGON ((-197850.789 -101965.719, -197850.789...\n",
       "     1  POLYGON ((-197817.819 -101962.722, -197814.822...\n",
       "18.0 0  POLYGON ((-197979.671 -103644.186, -197910.734...\n",
       "19.0 0  POLYGON ((-197587.030 -103104.679, -197587.030...\n",
       "     1  POLYGON ((-198000.652 -103206.586, -197997.655..."
      ]
     },
     "execution_count": 263,
     "metadata": {},
     "output_type": "execute_result"
    }
   ],
   "source": [
    "ids.explode()"
   ]
  },
  {
   "cell_type": "code",
   "execution_count": null,
   "id": "d0286699-805d-4473-be8e-596083133348",
   "metadata": {},
   "outputs": [],
   "source": []
  }
 ],
 "metadata": {
  "kernelspec": {
   "display_name": "Python 3 (ipykernel)",
   "language": "python",
   "name": "python3"
  },
  "language_info": {
   "codemirror_mode": {
    "name": "ipython",
    "version": 3
   },
   "file_extension": ".py",
   "mimetype": "text/x-python",
   "name": "python",
   "nbconvert_exporter": "python",
   "pygments_lexer": "ipython3",
   "version": "3.10.8"
  }
 },
 "nbformat": 4,
 "nbformat_minor": 5
}
