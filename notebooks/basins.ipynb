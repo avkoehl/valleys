{
 "cells": [
  {
   "cell_type": "markdown",
   "id": "6dd8731a-9b55-42a1-84e6-7fc8a82b3345",
   "metadata": {},
   "source": [
    "# Sub Basin Delineation\n",
    "\n",
    "Options: WhiteBoxTools, GrassGIS"
   ]
  },
  {
   "cell_type": "code",
   "execution_count": 52,
   "id": "d8f8f022-1551-4d3f-98c2-3a28bf218805",
   "metadata": {},
   "outputs": [],
   "source": [
    "import matplotlib.pyplot as plt\n",
    "from matplotlib.colors import ListedColormap\n",
    "import numpy as np\n",
    "import pandas as pd\n",
    "import geopandas as gpd\n",
    "import rioxarray \n",
    "import os\n",
    "import shutil\n",
    "import tempfile\n",
    "import whitebox"
   ]
  },
  {
   "cell_type": "code",
   "execution_count": 3,
   "id": "8692076b-363a-4cb1-8592-aee43d28ea1c",
   "metadata": {},
   "outputs": [],
   "source": [
    "# load toy data\n",
    "dem = rioxarray.open_rasterio('../toy_data/dem_3m.tif')"
   ]
  },
  {
   "cell_type": "markdown",
   "id": "6cbd0ae9-11ed-4aa3-9d31-47725f16913d",
   "metadata": {},
   "source": [
    "## WhiteBoxTools\n",
    "\n",
    "Workflow option 1:\n",
    " - Flow Accumulation (fill depressions, flow direction, flow accumulation)\n",
    " - Extract Streams (threshold flow accumulation)\n",
    " - SubBasins (input streams and flow direction)\n",
    "\n",
    "In order to have reaches and not just stream network segments need option 2:\n",
    "- Flow Accumulation\n",
    "- Extract Streams\n",
    "- Split Segments\n",
    "- Get pour points (end of segment)\n",
    "- Snap to flow accumulation (if using NHD)\n",
    "- Watershed tool\n",
    "- UnnestBasins (maybe not necessary)"
   ]
  },
  {
   "cell_type": "code",
   "execution_count": 18,
   "id": "507f27c5-f248-448c-a06b-6de536e01b0b",
   "metadata": {},
   "outputs": [
    {
     "data": {
      "text/plain": [
       "\"WhiteboxTools v2.3.0 (c) Dr. John Lindsay 2017-2023\\n\\nWhiteboxTools is an advanced geospatial data analysis platform developed at\\nthe University of Guelph's Geomorphometry and Hydrogeomatics Research \\nGroup (GHRG). See www.whiteboxgeo.com for more details.\\n\""
      ]
     },
     "execution_count": 18,
     "metadata": {},
     "output_type": "execute_result"
    }
   ],
   "source": [
    "def wb_wrapper(wbt_method, params, return_file=False):\n",
    "    \n",
    "    # for each param that is raster, save to file\n",
    "    for p,v in params.items():\n",
    "        if hasattr(v, 'rio'):\n",
    "            # write v to temp file\n",
    "            # update v to be the path to that file\n",
    "            temp_file = tempfile.NamedTemporaryFile(suffix=\".tif\")\n",
    "            v.rio.to_raster(temp_file.name, driver=\"GTiff\")\n",
    "            params[p] = temp_file.name\n",
    "                \n",
    "\n",
    "    # make function call\n",
    "    wbt_method(**params)\n",
    "\n",
    "    if return_file:\n",
    "        return params['output']\n",
    "\n",
    "    raster_file_path = params['output']\n",
    "    output_raster = rioxarray.open_rasterio(raster_file_path)\n",
    "    os.remove(raster_file_path)\n",
    "    return output_raster \n",
    "\n",
    "def my_callback(value):\n",
    "    if not \"%\" in value:\n",
    "        print(value)\n",
    "\n",
    "wbt = whitebox.WhiteboxTools()\n",
    "wbt.set_whitebox_dir(os.path.expanduser(\"~/opt/WBT/\"))\n",
    "\n",
    "working_directory = os.path.abspath(\"../data/whitebox_outputs/\")\n",
    "if os.path.exists(working_directory):\n",
    "    shutil.rmtree(working_directory)\n",
    "os.mkdir(working_directory)\n",
    "wbt.set_working_dir(os.path.abspath(working_directory))\n",
    "wbt.version()"
   ]
  },
  {
   "cell_type": "markdown",
   "id": "efa796a4-50e6-46c4-a7ba-9a3d6128c5ec",
   "metadata": {},
   "source": [
    "### Option 1"
   ]
  },
  {
   "cell_type": "code",
   "execution_count": 20,
   "id": "64026969-6fae-4405-b114-a1e5261dd474",
   "metadata": {},
   "outputs": [
    {
     "name": "stdout",
     "output_type": "stream",
     "text": [
      "./whitebox_tools --run=\"BreachDepressionsLeastCost\" --wd=\"/Users/arthurkoehl/programs/pasternack/valleys/data/whitebox_outputs\" --dem='/var/folders/l2/9h6xd6f555321vx3s_ttqb_80000gn/T/tmp00h2pyfh.tif' --output='/Users/arthurkoehl/programs/pasternack/valleys/data/whitebox_outputs/filled_dem.tif' --dist='1000' --min_dist --fill -v --compress_rasters=False\n",
      "\n",
      "*****************************************\n",
      "* Welcome to BreachDepressionsLeastCost *\n",
      "* Powered by WhiteboxTools              *\n",
      "* www.whiteboxgeo.com                   *\n",
      "*****************************************\n",
      "Reading data...\n",
      "Num. solved pits: 876\n",
      "Num. unsolved pits: 0\n",
      "Saving data...\n",
      "Output file written\n",
      "Elapsed Time (excluding I/O): 0.27s\n"
     ]
    },
    {
     "data": {
      "text/plain": [
       "'/Users/arthurkoehl/programs/pasternack/valleys/data/whitebox_outputs/filled_dem.tif'"
      ]
     },
     "execution_count": 20,
     "metadata": {},
     "output_type": "execute_result"
    }
   ],
   "source": [
    "# get flow direction and flow accumulation\n",
    "params = {\n",
    "    \"dem\": dem,\n",
    "    \"output\": os.path.join(working_directory, \"filled_dem.tif\"),\n",
    "    \"dist\": 1000,\n",
    "    \"max_cost\": None,\n",
    "    \"min_dist\": True,\n",
    "    \"flat_increment\": None,\n",
    "    \"fill\": True,\n",
    "    \"callback\": my_callback\n",
    "}\n",
    "\n",
    "filled_dem_file = wb_wrapper(wbt.breach_depressions_least_cost, params, return_file=True)\n",
    "filled_dem_file"
   ]
  },
  {
   "cell_type": "code",
   "execution_count": 21,
   "id": "1839ad0e-0680-4519-8626-10c1b7178e0b",
   "metadata": {},
   "outputs": [
    {
     "name": "stdout",
     "output_type": "stream",
     "text": [
      "./whitebox_tools --run=\"D8Pointer\" --wd=\"/Users/arthurkoehl/programs/pasternack/valleys/data/whitebox_outputs\" --dem='/Users/arthurkoehl/programs/pasternack/valleys/data/whitebox_outputs/filled_dem.tif' --output='/Users/arthurkoehl/programs/pasternack/valleys/data/whitebox_outputs/d8_pntr.tif' -v --compress_rasters=False\n",
      "\n",
      "****************************\n",
      "* Welcome to D8Pointer     *\n",
      "* Powered by WhiteboxTools *\n",
      "* www.whiteboxgeo.com      *\n",
      "****************************\n",
      "Reading data...\n",
      "Saving data...\n",
      "Output file written\n",
      "Elapsed Time (excluding I/O): 0.44s\n"
     ]
    },
    {
     "data": {
      "text/plain": [
       "'/Users/arthurkoehl/programs/pasternack/valleys/data/whitebox_outputs/d8_pntr.tif'"
      ]
     },
     "execution_count": 21,
     "metadata": {},
     "output_type": "execute_result"
    }
   ],
   "source": [
    "params = {\n",
    "    \"dem\": filled_dem_file, \n",
    "    \"output\": os.path.join(working_directory, \"d8_pntr.tif\"), \n",
    "    \"esri_pntr\": False, \n",
    "    \"callback\": my_callback\n",
    "}\n",
    "d8_pntr_file = wb_wrapper(wbt.d8_pointer, params, return_file=True)\n",
    "d8_pntr_file"
   ]
  },
  {
   "cell_type": "code",
   "execution_count": 24,
   "id": "b96179ae-e132-4dc3-a965-d47614f16a58",
   "metadata": {},
   "outputs": [
    {
     "name": "stdout",
     "output_type": "stream",
     "text": [
      "./whitebox_tools --run=\"D8FlowAccumulation\" --wd=\"/Users/arthurkoehl/programs/pasternack/valleys/data/whitebox_outputs\" --input='/Users/arthurkoehl/programs/pasternack/valleys/data/whitebox_outputs/d8_pntr.tif' --output='/Users/arthurkoehl/programs/pasternack/valleys/data/whitebox_outputs/d8_flow_acc.tif' --out_type=cells --pntr -v --compress_rasters=False\n",
      "\n",
      "*********************************\n",
      "* Welcome to D8FlowAccumulation *\n",
      "* Powered by WhiteboxTools      *\n",
      "* www.whiteboxgeo.com           *\n",
      "*********************************\n",
      "Reading data...\n",
      "Saving data...\n",
      "Output file written\n",
      "Elapsed Time (excluding I/O): 0.77s\n"
     ]
    }
   ],
   "source": [
    "params = {\n",
    "    \"i\": d8_pntr_file,\n",
    "    \"output\": os.path.join(working_directory, \"d8_flow_acc.tif\"),\n",
    "    \"out_type\": \"cells\",\n",
    "    \"log\": False,\n",
    "    \"clip\": False,\n",
    "    \"pntr\": True,\n",
    "    \"esri_pntr\": False,\n",
    "    \"callback\": my_callback\n",
    "}\n",
    "flow_acc = wb_wrapper(wbt.d8_flow_accumulation, params, return_file=False)"
   ]
  },
  {
   "cell_type": "code",
   "execution_count": 37,
   "id": "d5f9fb7f-3bff-4f14-8dad-e1360997710c",
   "metadata": {},
   "outputs": [
    {
     "data": {
      "text/plain": [
       "<matplotlib.collections.QuadMesh at 0x130765c60>"
      ]
     },
     "execution_count": 37,
     "metadata": {},
     "output_type": "execute_result"
    },
    {
     "data": {
      "image/png": "[encoded data removed]",
      "text/plain": [
       "<Figure size 640x480 with 2 Axes>"
      ]
     },
     "metadata": {},
     "output_type": "display_data"
    }
   ],
   "source": [
    "# decide on a threshold for flow accumulation\n",
    "threshold = 20000\n",
    "(flow_acc > threshold).plot()"
   ]
  },
  {
   "cell_type": "code",
   "execution_count": 40,
   "id": "bf4deb7d-4e67-402d-a380-9b88100c492a",
   "metadata": {},
   "outputs": [
    {
     "name": "stdout",
     "output_type": "stream",
     "text": [
      "./whitebox_tools --run=\"ExtractStreams\" --wd=\"/Users/arthurkoehl/programs/pasternack/valleys/data/whitebox_outputs\" --flow_accum='/var/folders/l2/9h6xd6f555321vx3s_ttqb_80000gn/T/tmpc9qvyg3s.tif' --output='/Users/arthurkoehl/programs/pasternack/valleys/data/whitebox_outputs/streams.tif' --threshold='20000' -v --compress_rasters=False\n",
      "\n",
      "*****************************\n",
      "* Welcome to ExtractStreams *\n",
      "* Powered by WhiteboxTools  *\n",
      "* www.whiteboxgeo.com       *\n",
      "*****************************\n",
      "Reading data...\n",
      "Saving data...\n",
      "Output file written\n",
      "Elapsed Time (excluding I/O): 0.13s\n"
     ]
    }
   ],
   "source": [
    "params = {\n",
    "    \"flow_accum\": flow_acc,\n",
    "    \"output\": os.path.join(working_directory, \"streams.tif\"),\n",
    "    \"threshold\": threshold,\n",
    "    \"zero_background\": False,\n",
    "    \"callback\": my_callback\n",
    "}\n",
    "streams_file = wb_wrapper(wbt.extract_streams, params, return_file=True)"
   ]
  },
  {
   "cell_type": "code",
   "execution_count": 66,
   "id": "5828f174-1aad-4569-8757-cffcbeb70f40",
   "metadata": {},
   "outputs": [
    {
     "name": "stdout",
     "output_type": "stream",
     "text": [
      "./whitebox_tools --run=\"Subbasins\" --wd=\"/Users/arthurkoehl/programs/pasternack/valleys/data/whitebox_outputs\" --d8_pntr='/Users/arthurkoehl/programs/pasternack/valleys/data/whitebox_outputs/d8_pntr.tif' --streams='/Users/arthurkoehl/programs/pasternack/valleys/data/whitebox_outputs/streams.tif' --output='/Users/arthurkoehl/programs/pasternack/valleys/data/whitebox_outputs/subbasins.tif' -v --compress_rasters=False\n",
      "\n",
      "****************************\n",
      "* Welcome to Subbasins     *\n",
      "* Powered by WhiteboxTools *\n",
      "* www.whiteboxgeo.com      *\n",
      "****************************\n",
      "Reading data...\n",
      "Saving data...\n",
      "Output file written\n",
      "Elapsed Time (excluding I/O): 0.94s\n"
     ]
    }
   ],
   "source": [
    "params = {\n",
    "    'd8_pntr': d8_pntr_file, \n",
    "    'streams': streams_file, \n",
    "    'output': os.path.join(working_directory, \"subbasins.tif\"), \n",
    "    'esri_pntr': False, \n",
    "    'callback': my_callback\n",
    "}\n",
    "basins = wb_wrapper(wbt.subbasins, params, return_file=False)"
   ]
  },
  {
   "cell_type": "code",
   "execution_count": 69,
   "id": "b3cc5351-1bb1-4c2d-8b61-5ef508c13d6a",
   "metadata": {},
   "outputs": [
    {
     "data": {
      "text/plain": [
       "<matplotlib.collections.QuadMesh at 0x132d263e0>"
      ]
     },
     "execution_count": 69,
     "metadata": {},
     "output_type": "execute_result"
    },
    {
     "data": {
      "image/png": "[encoded data removed]",
      "text/plain": [
       "<Figure size 640x480 with 2 Axes>"
      ]
     },
     "metadata": {},
     "output_type": "display_data"
    }
   ],
   "source": [
    "basins.data[basins.data == -32768] = 0\n",
    "basins.plot(cmap='tab20')"
   ]
  },
  {
   "cell_type": "markdown",
   "id": "84848067-e255-4c50-bf68-7f309488efc4",
   "metadata": {},
   "source": [
    "## Option 2"
   ]
  },
  {
   "cell_type": "code",
   "execution_count": null,
   "id": "0e353d53-9647-493a-9982-cc5c8718a427",
   "metadata": {},
   "outputs": [],
   "source": []
  }
 ],
 "metadata": {
  "kernelspec": {
   "display_name": "valleys",
   "language": "python",
   "name": "valleys"
  },
  "language_info": {
   "codemirror_mode": {
    "name": "ipython",
    "version": 3
   },
   "file_extension": ".py",
   "mimetype": "text/x-python",
   "name": "python",
   "nbconvert_exporter": "python",
   "pygments_lexer": "ipython3",
   "version": "3.10.9"
  }
 },
 "nbformat": 4,
 "nbformat_minor": 5
}
