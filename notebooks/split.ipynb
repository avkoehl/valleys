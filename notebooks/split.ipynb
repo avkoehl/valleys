{
 "cells": [
  {
   "cell_type": "code",
   "execution_count": 126,
   "id": "b059bd52",
   "metadata": {},
   "outputs": [],
   "source": [
    "import glob\n",
    "\n",
    "import geopandas as gpd\n",
    "import matplotlib.pyplot as plt\n",
    "import pandas as pd\n",
    "from pygeohydro import WBD\n",
    "from pynhd import NHD\n",
    "from shapely.geometry import LineString, MultiPoint\n",
    "from shapely.ops import split\n",
    "from shapely.ops import snap"
   ]
  },
  {
   "cell_type": "code",
   "execution_count": 5,
   "id": "82b41856",
   "metadata": {},
   "outputs": [
    {
     "data": {
      "text/html": [
       "<div>\n",
       "<style scoped>\n",
       "    .dataframe tbody tr th:only-of-type {\n",
       "        vertical-align: middle;\n",
       "    }\n",
       "\n",
       "    .dataframe tbody tr th {\n",
       "        vertical-align: top;\n",
       "    }\n",
       "\n",
       "    .dataframe thead th {\n",
       "        text-align: right;\n",
       "    }\n",
       "</style>\n",
       "<table border=\"1\" class=\"dataframe\">\n",
       "  <thead>\n",
       "    <tr style=\"text-align: right;\">\n",
       "      <th></th>\n",
       "      <th>geometry</th>\n",
       "      <th>OBJECTID</th>\n",
       "      <th>tnmid</th>\n",
       "      <th>metasourceid</th>\n",
       "      <th>sourcedatadesc</th>\n",
       "      <th>sourceoriginator</th>\n",
       "      <th>sourcefeatureid</th>\n",
       "      <th>loaddate</th>\n",
       "      <th>areaacres</th>\n",
       "      <th>areasqkm</th>\n",
       "      <th>states</th>\n",
       "      <th>huc4</th>\n",
       "      <th>name</th>\n",
       "      <th>shape_Length</th>\n",
       "      <th>shape_Area</th>\n",
       "      <th>referencegnis_ids</th>\n",
       "    </tr>\n",
       "  </thead>\n",
       "  <tbody>\n",
       "    <tr>\n",
       "      <th>0</th>\n",
       "      <td>POLYGON ((-120.54011 38.75127, -120.54153 38.7...</td>\n",
       "      <td>87</td>\n",
       "      <td>{419D90DC-A7AA-4C8F-8269-2C3F59883D1F}</td>\n",
       "      <td>{A0039473-A809-4129-8E12-32F32F5B835C}</td>\n",
       "      <td>None</td>\n",
       "      <td>U.S. Geological Survey</td>\n",
       "      <td>None</td>\n",
       "      <td>1641219159000</td>\n",
       "      <td>10127904.92</td>\n",
       "      <td>40986.21</td>\n",
       "      <td>CA</td>\n",
       "      <td>1804</td>\n",
       "      <td>San Joaquin</td>\n",
       "      <td>1.643854e+06</td>\n",
       "      <td>6.553432e+10</td>\n",
       "      <td>None</td>\n",
       "    </tr>\n",
       "  </tbody>\n",
       "</table>\n",
       "</div>"
      ],
      "text/plain": [
       "                                            geometry  OBJECTID  \\\n",
       "0  POLYGON ((-120.54011 38.75127, -120.54153 38.7...        87   \n",
       "\n",
       "                                    tnmid  \\\n",
       "0  {419D90DC-A7AA-4C8F-8269-2C3F59883D1F}   \n",
       "\n",
       "                             metasourceid sourcedatadesc  \\\n",
       "0  {A0039473-A809-4129-8E12-32F32F5B835C}           None   \n",
       "\n",
       "         sourceoriginator sourcefeatureid       loaddate    areaacres  \\\n",
       "0  U.S. Geological Survey            None  1641219159000  10127904.92   \n",
       "\n",
       "   areasqkm states  huc4         name  shape_Length    shape_Area  \\\n",
       "0  40986.21     CA  1804  San Joaquin  1.643854e+06  6.553432e+10   \n",
       "\n",
       "  referencegnis_ids  \n",
       "0              None  "
      ]
     },
     "execution_count": 5,
     "metadata": {},
     "output_type": "execute_result"
    }
   ],
   "source": [
    "wbd = WBD(\"huc4\")\n",
    "subregion = wbd.byids(\"huc4\", 1804)\n",
    "subregion"
   ]
  },
  {
   "cell_type": "code",
   "execution_count": 10,
   "id": "d275d139",
   "metadata": {},
   "outputs": [
    {
     "data": {
      "text/html": [
       "<div>\n",
       "<style scoped>\n",
       "    .dataframe tbody tr th:only-of-type {\n",
       "        vertical-align: middle;\n",
       "    }\n",
       "\n",
       "    .dataframe tbody tr th {\n",
       "        vertical-align: top;\n",
       "    }\n",
       "\n",
       "    .dataframe thead th {\n",
       "        text-align: right;\n",
       "    }\n",
       "</style>\n",
       "<table border=\"1\" class=\"dataframe\">\n",
       "  <thead>\n",
       "    <tr style=\"text-align: right;\">\n",
       "      <th></th>\n",
       "      <th>geometry</th>\n",
       "      <th>COMID</th>\n",
       "      <th>LENGTHKM</th>\n",
       "      <th>ArbolateSu</th>\n",
       "      <th>SLOPE</th>\n",
       "    </tr>\n",
       "  </thead>\n",
       "  <tbody>\n",
       "    <tr>\n",
       "      <th>0</th>\n",
       "      <td>LINESTRING (-120.11581 37.16139, -120.11735 37...</td>\n",
       "      <td>19772077</td>\n",
       "      <td>0.475</td>\n",
       "      <td>565.812</td>\n",
       "      <td>0.002926</td>\n",
       "    </tr>\n",
       "    <tr>\n",
       "      <th>1</th>\n",
       "      <td>LINESTRING (-120.11238 37.16407, -120.11281 37...</td>\n",
       "      <td>19772079</td>\n",
       "      <td>1.036</td>\n",
       "      <td>557.847</td>\n",
       "      <td>0.001364</td>\n",
       "    </tr>\n",
       "    <tr>\n",
       "      <th>2</th>\n",
       "      <td>LINESTRING (-120.01840 37.17531, -120.01866 37...</td>\n",
       "      <td>19772139</td>\n",
       "      <td>7.276</td>\n",
       "      <td>7.276</td>\n",
       "      <td>0.008793</td>\n",
       "    </tr>\n",
       "    <tr>\n",
       "      <th>3</th>\n",
       "      <td>LINESTRING (-120.04124 37.13242, -120.04070 37...</td>\n",
       "      <td>19772159</td>\n",
       "      <td>1.606</td>\n",
       "      <td>11.969</td>\n",
       "      <td>0.002696</td>\n",
       "    </tr>\n",
       "    <tr>\n",
       "      <th>4</th>\n",
       "      <td>LINESTRING (-120.04728 37.12531, -120.04739 37...</td>\n",
       "      <td>19772169</td>\n",
       "      <td>1.354</td>\n",
       "      <td>38.094</td>\n",
       "      <td>0.001411</td>\n",
       "    </tr>\n",
       "    <tr>\n",
       "      <th>...</th>\n",
       "      <td>...</td>\n",
       "      <td>...</td>\n",
       "      <td>...</td>\n",
       "      <td>...</td>\n",
       "      <td>...</td>\n",
       "    </tr>\n",
       "    <tr>\n",
       "      <th>19999</th>\n",
       "      <td>LINESTRING (-120.10658 37.16306, -120.10766 37...</td>\n",
       "      <td>19772053</td>\n",
       "      <td>0.583</td>\n",
       "      <td>2.322</td>\n",
       "      <td>0.002041</td>\n",
       "    </tr>\n",
       "    <tr>\n",
       "      <th>20000</th>\n",
       "      <td>LINESTRING (-120.09811 37.16507, -120.09903 37...</td>\n",
       "      <td>19772055</td>\n",
       "      <td>1.103</td>\n",
       "      <td>5.808</td>\n",
       "      <td>0.002058</td>\n",
       "    </tr>\n",
       "    <tr>\n",
       "      <th>20001</th>\n",
       "      <td>LINESTRING (-120.10658 37.16306, -120.10669 37...</td>\n",
       "      <td>19772057</td>\n",
       "      <td>0.315</td>\n",
       "      <td>2.054</td>\n",
       "      <td>0.002970</td>\n",
       "    </tr>\n",
       "    <tr>\n",
       "      <th>20002</th>\n",
       "      <td>LINESTRING (-120.11312 37.16302, -120.11338 37...</td>\n",
       "      <td>19772065</td>\n",
       "      <td>0.301</td>\n",
       "      <td>559.571</td>\n",
       "      <td>0.000133</td>\n",
       "    </tr>\n",
       "    <tr>\n",
       "      <th>20003</th>\n",
       "      <td>LINESTRING (-120.10949 37.16196, -120.11184 37...</td>\n",
       "      <td>19772067</td>\n",
       "      <td>0.576</td>\n",
       "      <td>7.505</td>\n",
       "      <td>0.001285</td>\n",
       "    </tr>\n",
       "  </tbody>\n",
       "</table>\n",
       "<p>20004 rows × 5 columns</p>\n",
       "</div>"
      ],
      "text/plain": [
       "                                                geometry     COMID  LENGTHKM  \\\n",
       "0      LINESTRING (-120.11581 37.16139, -120.11735 37...  19772077     0.475   \n",
       "1      LINESTRING (-120.11238 37.16407, -120.11281 37...  19772079     1.036   \n",
       "2      LINESTRING (-120.01840 37.17531, -120.01866 37...  19772139     7.276   \n",
       "3      LINESTRING (-120.04124 37.13242, -120.04070 37...  19772159     1.606   \n",
       "4      LINESTRING (-120.04728 37.12531, -120.04739 37...  19772169     1.354   \n",
       "...                                                  ...       ...       ...   \n",
       "19999  LINESTRING (-120.10658 37.16306, -120.10766 37...  19772053     0.583   \n",
       "20000  LINESTRING (-120.09811 37.16507, -120.09903 37...  19772055     1.103   \n",
       "20001  LINESTRING (-120.10658 37.16306, -120.10669 37...  19772057     0.315   \n",
       "20002  LINESTRING (-120.11312 37.16302, -120.11338 37...  19772065     0.301   \n",
       "20003  LINESTRING (-120.10949 37.16196, -120.11184 37...  19772067     0.576   \n",
       "\n",
       "       ArbolateSu     SLOPE  \n",
       "0         565.812  0.002926  \n",
       "1         557.847  0.001364  \n",
       "2           7.276  0.008793  \n",
       "3          11.969  0.002696  \n",
       "4          38.094  0.001411  \n",
       "...           ...       ...  \n",
       "19999       2.322  0.002041  \n",
       "20000       5.808  0.002058  \n",
       "20001       2.054  0.002970  \n",
       "20002     559.571  0.000133  \n",
       "20003       7.505  0.001285  \n",
       "\n",
       "[20004 rows x 5 columns]"
      ]
     },
     "execution_count": 10,
     "metadata": {},
     "output_type": "execute_result"
    }
   ],
   "source": [
    "fields = [\n",
    "    'COMID',\n",
    "    'LENGTHKM',\n",
    "    'ArbolateSu',\n",
    "    'SLOPE',\n",
    "]\n",
    "\n",
    "nhd = NHD('flowline_mr', outfields = fields)\n",
    "aoi = subregion['geometry'].iloc[0]\n",
    "flowlines = nhd.bygeom(aoi)\n",
    "flowlines"
   ]
  },
  {
   "cell_type": "code",
   "execution_count": 20,
   "id": "d29ec93e",
   "metadata": {},
   "outputs": [
    {
     "data": {
      "text/plain": [
       "<Geographic 2D CRS: EPSG:4326>\n",
       "Name: WGS 84\n",
       "Axis Info [ellipsoidal]:\n",
       "- Lat[north]: Geodetic latitude (degree)\n",
       "- Lon[east]: Geodetic longitude (degree)\n",
       "Area of Use:\n",
       "- name: World.\n",
       "- bounds: (-180.0, -90.0, 180.0, 90.0)\n",
       "Datum: World Geodetic System 1984 ensemble\n",
       "- Ellipsoid: WGS 84\n",
       "- Prime Meridian: Greenwich"
      ]
     },
     "execution_count": 20,
     "metadata": {},
     "output_type": "execute_result"
    }
   ],
   "source": [
    "flowlines.crs"
   ]
  },
  {
   "cell_type": "code",
   "execution_count": 22,
   "id": "cb01f837",
   "metadata": {},
   "outputs": [
    {
     "data": {
      "text/plain": [
       "<Projected CRS: EPSG:3310>\n",
       "Name: NAD83 / California Albers\n",
       "Axis Info [cartesian]:\n",
       "- X[east]: Easting (metre)\n",
       "- Y[north]: Northing (metre)\n",
       "Area of Use:\n",
       "- name: United States (USA) - California.\n",
       "- bounds: (-124.45, 32.53, -114.12, 42.01)\n",
       "Coordinate Operation:\n",
       "- name: California Albers\n",
       "- method: Albers Equal Area\n",
       "Datum: North American Datum 1983\n",
       "- Ellipsoid: GRS 1980\n",
       "- Prime Meridian: Greenwich"
      ]
     },
     "execution_count": 22,
     "metadata": {},
     "output_type": "execute_result"
    }
   ],
   "source": [
    "flowlines = flowlines.to_crs(\"EPSG:3310\")\n",
    "flowlines.crs"
   ]
  },
  {
   "cell_type": "code",
   "execution_count": 26,
   "id": "8f96975b",
   "metadata": {},
   "outputs": [
    {
     "data": {
      "text/plain": [
       "count    20004.000000\n",
       "mean         1.551437\n",
       "std          1.577570\n",
       "min          0.001000\n",
       "25%          0.492000\n",
       "50%          1.192000\n",
       "75%          2.079000\n",
       "max         33.343000\n",
       "Name: LENGTHKM, dtype: float64"
      ]
     },
     "execution_count": 26,
     "metadata": {},
     "output_type": "execute_result"
    }
   ],
   "source": [
    "flowlines['LENGTHKM'].describe()"
   ]
  },
  {
   "cell_type": "code",
   "execution_count": 27,
   "id": "2190f8bc",
   "metadata": {},
   "outputs": [],
   "source": [
    "top = flowlines.head(5)"
   ]
  },
  {
   "cell_type": "code",
   "execution_count": 28,
   "id": "41f2b982",
   "metadata": {},
   "outputs": [
    {
     "data": {
      "text/html": [
       "<div>\n",
       "<style scoped>\n",
       "    .dataframe tbody tr th:only-of-type {\n",
       "        vertical-align: middle;\n",
       "    }\n",
       "\n",
       "    .dataframe tbody tr th {\n",
       "        vertical-align: top;\n",
       "    }\n",
       "\n",
       "    .dataframe thead th {\n",
       "        text-align: right;\n",
       "    }\n",
       "</style>\n",
       "<table border=\"1\" class=\"dataframe\">\n",
       "  <thead>\n",
       "    <tr style=\"text-align: right;\">\n",
       "      <th></th>\n",
       "      <th>geometry</th>\n",
       "      <th>COMID</th>\n",
       "      <th>LENGTHKM</th>\n",
       "      <th>ArbolateSu</th>\n",
       "      <th>SLOPE</th>\n",
       "    </tr>\n",
       "  </thead>\n",
       "  <tbody>\n",
       "    <tr>\n",
       "      <th>0</th>\n",
       "      <td>LINESTRING (-10270.103 -95036.427, -10407.048 ...</td>\n",
       "      <td>19772077</td>\n",
       "      <td>0.475</td>\n",
       "      <td>565.812</td>\n",
       "      <td>0.002926</td>\n",
       "    </tr>\n",
       "    <tr>\n",
       "      <th>1</th>\n",
       "      <td>LINESTRING (-9965.485 -94739.319, -10003.511 -...</td>\n",
       "      <td>19772079</td>\n",
       "      <td>1.036</td>\n",
       "      <td>557.847</td>\n",
       "      <td>0.001364</td>\n",
       "    </tr>\n",
       "    <tr>\n",
       "      <th>2</th>\n",
       "      <td>LINESTRING (-1631.497 -93495.082, -1654.363 -9...</td>\n",
       "      <td>19772139</td>\n",
       "      <td>7.276</td>\n",
       "      <td>7.276</td>\n",
       "      <td>0.008793</td>\n",
       "    </tr>\n",
       "    <tr>\n",
       "      <th>3</th>\n",
       "      <td>LINESTRING (-3658.507 -98262.749, -3610.323 -9...</td>\n",
       "      <td>19772159</td>\n",
       "      <td>1.606</td>\n",
       "      <td>11.969</td>\n",
       "      <td>0.002696</td>\n",
       "    </tr>\n",
       "    <tr>\n",
       "      <th>4</th>\n",
       "      <td>LINESTRING (-4194.469 -99052.851, -4204.607 -9...</td>\n",
       "      <td>19772169</td>\n",
       "      <td>1.354</td>\n",
       "      <td>38.094</td>\n",
       "      <td>0.001411</td>\n",
       "    </tr>\n",
       "  </tbody>\n",
       "</table>\n",
       "</div>"
      ],
      "text/plain": [
       "                                            geometry     COMID  LENGTHKM  \\\n",
       "0  LINESTRING (-10270.103 -95036.427, -10407.048 ...  19772077     0.475   \n",
       "1  LINESTRING (-9965.485 -94739.319, -10003.511 -...  19772079     1.036   \n",
       "2  LINESTRING (-1631.497 -93495.082, -1654.363 -9...  19772139     7.276   \n",
       "3  LINESTRING (-3658.507 -98262.749, -3610.323 -9...  19772159     1.606   \n",
       "4  LINESTRING (-4194.469 -99052.851, -4204.607 -9...  19772169     1.354   \n",
       "\n",
       "   ArbolateSu     SLOPE  \n",
       "0     565.812  0.002926  \n",
       "1     557.847  0.001364  \n",
       "2       7.276  0.008793  \n",
       "3      11.969  0.002696  \n",
       "4      38.094  0.001411  "
      ]
     },
     "execution_count": 28,
     "metadata": {},
     "output_type": "execute_result"
    }
   ],
   "source": [
    "top"
   ]
  },
  {
   "cell_type": "code",
   "execution_count": 29,
   "id": "cea56afa",
   "metadata": {},
   "outputs": [
    {
     "data": {
      "text/plain": [
       "geometry      LINESTRING (-10270.103356920677 -95036.4274285...\n",
       "COMID                                                  19772077\n",
       "LENGTHKM                                                  0.475\n",
       "ArbolateSu                                              565.812\n",
       "SLOPE                                                  0.002926\n",
       "Name: 0, dtype: object"
      ]
     },
     "execution_count": 29,
     "metadata": {},
     "output_type": "execute_result"
    }
   ],
   "source": [
    "first = top.iloc[0]\n",
    "first"
   ]
  },
  {
   "cell_type": "code",
   "execution_count": 168,
   "id": "fa9d8753",
   "metadata": {},
   "outputs": [
    {
     "data": {
      "text/plain": [
       "2"
      ]
     },
     "execution_count": 168,
     "metadata": {},
     "output_type": "execute_result"
    }
   ],
   "source": [
    "line = first['geometry']\n",
    "splitter = MultiPoint([line.interpolate((i/2), normalized=True) for i in range(1, 2)])\n",
    "snapped = snap(line, splitter, tolerance=0.01) # https://gis.stackexchange.com/questions/386482/splitting-line-geodataframe-basing-on-given-lengths/386527#386527\n",
    "# https://github.com/shapely/shapely/issues/1058#issuecomment-755016543\n",
    "splitted = split(snapped, splitter).geoms\n",
    "len(splitted)"
   ]
  },
  {
   "cell_type": "code",
   "execution_count": 162,
   "id": "4bbd2d5b",
   "metadata": {},
   "outputs": [
    {
     "data": {
      "text/plain": [
       "0    LINESTRING (-10270.103 -95036.427, -10407.048 ...\n",
       "1    LINESTRING (-10494.739 -95113.952, -10602.378 ...\n",
       "dtype: geometry"
      ]
     },
     "execution_count": 162,
     "metadata": {},
     "output_type": "execute_result"
    }
   ],
   "source": [
    " p = gpd.GeoSeries(splitted)\n",
    " p"
   ]
  },
  {
   "cell_type": "code",
   "execution_count": 164,
   "id": "4ed272b1",
   "metadata": {},
   "outputs": [
    {
     "data": {
      "image/svg+xml": [
       "<svg xmlns=\"http://www.w3.org/2000/svg\" xmlns:xlink=\"http://www.w3.org/1999/xlink\" width=\"242.60622476774734\" height=\"100.0\" viewBox=\"-10503.724165956286 -95122.9376570959 242.60622476774734 95.49564429424936\" preserveAspectRatio=\"xMinYMin meet\"><g transform=\"matrix(1,0,0,-1,0,-190150.37966989755)\"><polyline fill=\"none\" stroke=\"#66cc99\" stroke-width=\"2.0\" points=\"-10270.103356920677,-95036.42742853379 -10407.047607266717,-95071.83707878226 -10494.738750224147,-95113.95224136376\" opacity=\"0.8\" /></g></svg>"
      ],
      "text/plain": [
       "<LINESTRING (-10270.103 -95036.427, -10407.048 -95071.837, -10494.739 -95113...>"
      ]
     },
     "execution_count": 164,
     "metadata": {},
     "output_type": "execute_result"
    }
   ],
   "source": [
    "p.iloc[0]"
   ]
  },
  {
   "cell_type": "code",
   "execution_count": 165,
   "id": "97c895d9",
   "metadata": {},
   "outputs": [
    {
     "data": {
      "image/svg+xml": [
       "<svg xmlns=\"http://www.w3.org/2000/svg\" xmlns:xlink=\"http://www.w3.org/1999/xlink\" width=\"217.65842891090506\" height=\"141.44199813017622\" viewBox=\"-10704.335755842056 -95247.33281620094 217.65842891090506 141.44199813017622\" preserveAspectRatio=\"xMinYMin meet\"><g transform=\"matrix(1,0,0,-1,0,-190353.2236342717)\"><polyline fill=\"none\" stroke=\"#66cc99\" stroke-width=\"2.0\" points=\"-10494.738750224147,-95113.95224136376 -10602.37803543793,-95165.64783847937 -10696.27433254906,-95239.27139290795\" opacity=\"0.8\" /></g></svg>"
      ],
      "text/plain": [
       "<LINESTRING (-10494.739 -95113.952, -10602.378 -95165.648, -10696.274 -95239...>"
      ]
     },
     "execution_count": 165,
     "metadata": {},
     "output_type": "execute_result"
    }
   ],
   "source": [
    "p.iloc[1]"
   ]
  },
  {
   "cell_type": "code",
   "execution_count": 169,
   "id": "af0ccc73",
   "metadata": {},
   "outputs": [
    {
     "data": {
      "text/plain": [
       "477.4565004354849"
      ]
     },
     "execution_count": 169,
     "metadata": {},
     "output_type": "execute_result"
    }
   ],
   "source": [
    "line.length"
   ]
  },
  {
   "cell_type": "code",
   "execution_count": 180,
   "id": "0e8e412b",
   "metadata": {},
   "outputs": [],
   "source": [
    "distance_delta = 100\n",
    "distances = np.arange(0, line.length, distance_delta)\n",
    "points = [line.interpolate(distance) for distance in distances] + [line.boundary.geoms[1]]\n",
    "#multipoint = unary_union(points)  # or new_line = LineString(points)"
   ]
  },
  {
   "cell_type": "code",
   "execution_count": 181,
   "id": "95ec784c",
   "metadata": {},
   "outputs": [
    {
     "data": {
      "text/plain": [
       "[<POINT (-10270.103 -95036.427)>,\n",
       " <POINT (-10366.919 -95061.461)>,\n",
       " <POINT (-10459.828 -95097.186)>,\n",
       " <POINT (-10549.971 -95140.478)>,\n",
       " <POINT (-10635.321 -95191.478)>,\n",
       " <POINT (-10696.274 -95239.271)>]"
      ]
     },
     "execution_count": 181,
     "metadata": {},
     "output_type": "execute_result"
    }
   ],
   "source": [
    "points"
   ]
  },
  {
   "cell_type": "code",
   "execution_count": 184,
   "id": "31d8bdf5",
   "metadata": {},
   "outputs": [
    {
     "data": {
      "text/plain": [
       "shapely.geometry.multipoint.MultiPoint"
      ]
     },
     "execution_count": 184,
     "metadata": {},
     "output_type": "execute_result"
    }
   ],
   "source": [
    "type(shapely.unary_union(points))"
   ]
  },
  {
   "cell_type": "code",
   "execution_count": 185,
   "id": "2ef6959d",
   "metadata": {},
   "outputs": [
    {
     "data": {
      "text/plain": [
       "shapely.geometry.multipoint.MultiPoint"
      ]
     },
     "execution_count": 185,
     "metadata": {},
     "output_type": "execute_result"
    }
   ],
   "source": [
    "type(splitter)"
   ]
  },
  {
   "cell_type": "code",
   "execution_count": 218,
   "id": "84aeb957",
   "metadata": {},
   "outputs": [],
   "source": [
    "def segment(line, length=500, method=\"remainder\"):\n",
    "    # https://gis.stackexchange.com/questions/386482/splitting-line-geodataframe-basing-on-given-lengths/386527#386527\n",
    "    # https://github.com/shapely/shapely/issues/1058#issuecomment-755016543\n",
    "    distances = np.arange(0, line.length, length)\n",
    "    points = [line.interpolate(distance) for distance in distances] + [line.boundary.geoms[1]]\n",
    "    points = shapely.unary_union(points)\n",
    "    snapped = snap(line, points, tolerance=0.01) \n",
    "    return list(split(snapped, points).geoms)"
   ]
  },
  {
   "cell_type": "code",
   "execution_count": 217,
   "id": "48b0ae29",
   "metadata": {},
   "outputs": [
    {
     "data": {
      "text/html": [
       "<div>\n",
       "<style scoped>\n",
       "    .dataframe tbody tr th:only-of-type {\n",
       "        vertical-align: middle;\n",
       "    }\n",
       "\n",
       "    .dataframe tbody tr th {\n",
       "        vertical-align: top;\n",
       "    }\n",
       "\n",
       "    .dataframe thead th {\n",
       "        text-align: right;\n",
       "    }\n",
       "</style>\n",
       "<table border=\"1\" class=\"dataframe\">\n",
       "  <thead>\n",
       "    <tr style=\"text-align: right;\">\n",
       "      <th></th>\n",
       "      <th>geometry</th>\n",
       "      <th>COMID</th>\n",
       "      <th>LENGTHKM</th>\n",
       "      <th>ArbolateSu</th>\n",
       "      <th>SLOPE</th>\n",
       "    </tr>\n",
       "  </thead>\n",
       "  <tbody>\n",
       "    <tr>\n",
       "      <th>0</th>\n",
       "      <td>LINESTRING (-10270.103 -95036.427, -10407.048 ...</td>\n",
       "      <td>19772077</td>\n",
       "      <td>0.475</td>\n",
       "      <td>565.812</td>\n",
       "      <td>0.002926</td>\n",
       "    </tr>\n",
       "    <tr>\n",
       "      <th>1</th>\n",
       "      <td>LINESTRING (-9965.485 -94739.319, -10003.511 -...</td>\n",
       "      <td>19772079</td>\n",
       "      <td>1.036</td>\n",
       "      <td>557.847</td>\n",
       "      <td>0.001364</td>\n",
       "    </tr>\n",
       "    <tr>\n",
       "      <th>2</th>\n",
       "      <td>LINESTRING (-1631.497 -93495.082, -1654.363 -9...</td>\n",
       "      <td>19772139</td>\n",
       "      <td>7.276</td>\n",
       "      <td>7.276</td>\n",
       "      <td>0.008793</td>\n",
       "    </tr>\n",
       "    <tr>\n",
       "      <th>3</th>\n",
       "      <td>LINESTRING (-3658.507 -98262.749, -3610.323 -9...</td>\n",
       "      <td>19772159</td>\n",
       "      <td>1.606</td>\n",
       "      <td>11.969</td>\n",
       "      <td>0.002696</td>\n",
       "    </tr>\n",
       "    <tr>\n",
       "      <th>4</th>\n",
       "      <td>LINESTRING (-4194.469 -99052.851, -4204.607 -9...</td>\n",
       "      <td>19772169</td>\n",
       "      <td>1.354</td>\n",
       "      <td>38.094</td>\n",
       "      <td>0.001411</td>\n",
       "    </tr>\n",
       "  </tbody>\n",
       "</table>\n",
       "</div>"
      ],
      "text/plain": [
       "                                            geometry     COMID  LENGTHKM  \\\n",
       "0  LINESTRING (-10270.103 -95036.427, -10407.048 ...  19772077     0.475   \n",
       "1  LINESTRING (-9965.485 -94739.319, -10003.511 -...  19772079     1.036   \n",
       "2  LINESTRING (-1631.497 -93495.082, -1654.363 -9...  19772139     7.276   \n",
       "3  LINESTRING (-3658.507 -98262.749, -3610.323 -9...  19772159     1.606   \n",
       "4  LINESTRING (-4194.469 -99052.851, -4204.607 -9...  19772169     1.354   \n",
       "\n",
       "   ArbolateSu     SLOPE  \n",
       "0     565.812  0.002926  \n",
       "1     557.847  0.001364  \n",
       "2       7.276  0.008793  \n",
       "3      11.969  0.002696  \n",
       "4      38.094  0.001411  "
      ]
     },
     "execution_count": 217,
     "metadata": {},
     "output_type": "execute_result"
    }
   ],
   "source": [
    "top"
   ]
  },
  {
   "cell_type": "code",
   "execution_count": 229,
   "id": "5b6b29ff",
   "metadata": {},
   "outputs": [
    {
     "name": "stderr",
     "output_type": "stream",
     "text": [
      "/Users/arthurkoehl/Library/Caches/pypoetry/virtualenvs/valleys-apqonAG6-py3.10/lib/python3.10/site-packages/geopandas/geoseries.py:645: FutureWarning: the convert_dtype parameter is deprecated and will be removed in a future version.  Do ``ser.astype(object).apply()`` instead if you want ``convert_dtype=False``.\n",
      "  result = super().apply(func, convert_dtype=convert_dtype, args=args, **kwargs)\n",
      "/Users/arthurkoehl/Library/Caches/pypoetry/virtualenvs/valleys-apqonAG6-py3.10/lib/python3.10/site-packages/geopandas/geodataframe.py:1538: SettingWithCopyWarning: \n",
      "A value is trying to be set on a copy of a slice from a DataFrame.\n",
      "Try using .loc[row_indexer,col_indexer] = value instead\n",
      "\n",
      "See the caveats in the documentation: https://pandas.pydata.org/pandas-docs/stable/user_guide/indexing.html#returning-a-view-versus-a-copy\n",
      "  super().__setitem__(key, value)\n"
     ]
    }
   ],
   "source": [
    "top['segments'] = top['geometry'].apply(segment)"
   ]
  },
  {
   "cell_type": "code",
   "execution_count": 233,
   "id": "226fc696",
   "metadata": {},
   "outputs": [
    {
     "data": {
      "text/html": [
       "<div>\n",
       "<style scoped>\n",
       "    .dataframe tbody tr th:only-of-type {\n",
       "        vertical-align: middle;\n",
       "    }\n",
       "\n",
       "    .dataframe tbody tr th {\n",
       "        vertical-align: top;\n",
       "    }\n",
       "\n",
       "    .dataframe thead th {\n",
       "        text-align: right;\n",
       "    }\n",
       "</style>\n",
       "<table border=\"1\" class=\"dataframe\">\n",
       "  <thead>\n",
       "    <tr style=\"text-align: right;\">\n",
       "      <th></th>\n",
       "      <th>geometry</th>\n",
       "      <th>COMID</th>\n",
       "      <th>LENGTHKM</th>\n",
       "      <th>ArbolateSu</th>\n",
       "      <th>SLOPE</th>\n",
       "      <th>segments</th>\n",
       "    </tr>\n",
       "  </thead>\n",
       "  <tbody>\n",
       "    <tr>\n",
       "      <th>0</th>\n",
       "      <td>LINESTRING (-10270.103 -95036.427, -10407.048 ...</td>\n",
       "      <td>19772077</td>\n",
       "      <td>0.475</td>\n",
       "      <td>565.812</td>\n",
       "      <td>0.002926</td>\n",
       "      <td>LINESTRING (-10270.103356920677 -95036.4274285...</td>\n",
       "    </tr>\n",
       "    <tr>\n",
       "      <th>1</th>\n",
       "      <td>LINESTRING (-9965.485 -94739.319, -10003.511 -...</td>\n",
       "      <td>19772079</td>\n",
       "      <td>1.036</td>\n",
       "      <td>557.847</td>\n",
       "      <td>0.001364</td>\n",
       "      <td>LINESTRING (-9965.485493607392 -94739.31932203...</td>\n",
       "    </tr>\n",
       "    <tr>\n",
       "      <th>1</th>\n",
       "      <td>LINESTRING (-9965.485 -94739.319, -10003.511 -...</td>\n",
       "      <td>19772079</td>\n",
       "      <td>1.036</td>\n",
       "      <td>557.847</td>\n",
       "      <td>0.001364</td>\n",
       "      <td>LINESTRING (-10447.949805556089 -94839.2488464...</td>\n",
       "    </tr>\n",
       "    <tr>\n",
       "      <th>1</th>\n",
       "      <td>LINESTRING (-9965.485 -94739.319, -10003.511 -...</td>\n",
       "      <td>19772079</td>\n",
       "      <td>1.036</td>\n",
       "      <td>557.847</td>\n",
       "      <td>0.001364</td>\n",
       "      <td>LINESTRING (-10709.804471029087 -95202.9135867...</td>\n",
       "    </tr>\n",
       "    <tr>\n",
       "      <th>2</th>\n",
       "      <td>LINESTRING (-1631.497 -93495.082, -1654.363 -9...</td>\n",
       "      <td>19772139</td>\n",
       "      <td>7.276</td>\n",
       "      <td>7.276</td>\n",
       "      <td>0.008793</td>\n",
       "      <td>LINESTRING (-1631.497186241981 -93495.08193291...</td>\n",
       "    </tr>\n",
       "    <tr>\n",
       "      <th>2</th>\n",
       "      <td>LINESTRING (-1631.497 -93495.082, -1654.363 -9...</td>\n",
       "      <td>19772139</td>\n",
       "      <td>7.276</td>\n",
       "      <td>7.276</td>\n",
       "      <td>0.008793</td>\n",
       "      <td>LINESTRING (-1965.2998117039892 -93656.1385713...</td>\n",
       "    </tr>\n",
       "    <tr>\n",
       "      <th>2</th>\n",
       "      <td>LINESTRING (-1631.497 -93495.082, -1654.363 -9...</td>\n",
       "      <td>19772139</td>\n",
       "      <td>7.276</td>\n",
       "      <td>7.276</td>\n",
       "      <td>0.008793</td>\n",
       "      <td>LINESTRING (-2355.5249434694515 -93863.4472377...</td>\n",
       "    </tr>\n",
       "    <tr>\n",
       "      <th>2</th>\n",
       "      <td>LINESTRING (-1631.497 -93495.082, -1654.363 -9...</td>\n",
       "      <td>19772139</td>\n",
       "      <td>7.276</td>\n",
       "      <td>7.276</td>\n",
       "      <td>0.008793</td>\n",
       "      <td>LINESTRING (-2461.256037580678 -94286.63322034...</td>\n",
       "    </tr>\n",
       "    <tr>\n",
       "      <th>2</th>\n",
       "      <td>LINESTRING (-1631.497 -93495.082, -1654.363 -9...</td>\n",
       "      <td>19772139</td>\n",
       "      <td>7.276</td>\n",
       "      <td>7.276</td>\n",
       "      <td>0.008793</td>\n",
       "      <td>LINESTRING (-2635.3482234026783 -94749.9276580...</td>\n",
       "    </tr>\n",
       "    <tr>\n",
       "      <th>2</th>\n",
       "      <td>LINESTRING (-1631.497 -93495.082, -1654.363 -9...</td>\n",
       "      <td>19772139</td>\n",
       "      <td>7.276</td>\n",
       "      <td>7.276</td>\n",
       "      <td>0.008793</td>\n",
       "      <td>LINESTRING (-2901.797741717885 -95170.07104403...</td>\n",
       "    </tr>\n",
       "    <tr>\n",
       "      <th>2</th>\n",
       "      <td>LINESTRING (-1631.497 -93495.082, -1654.363 -9...</td>\n",
       "      <td>19772139</td>\n",
       "      <td>7.276</td>\n",
       "      <td>7.276</td>\n",
       "      <td>0.008793</td>\n",
       "      <td>LINESTRING (-3183.280035104856 -95486.69986120...</td>\n",
       "    </tr>\n",
       "    <tr>\n",
       "      <th>2</th>\n",
       "      <td>LINESTRING (-1631.497 -93495.082, -1654.363 -9...</td>\n",
       "      <td>19772139</td>\n",
       "      <td>7.276</td>\n",
       "      <td>7.276</td>\n",
       "      <td>0.008793</td>\n",
       "      <td>LINESTRING (-3633.878469151591 -95476.58283144...</td>\n",
       "    </tr>\n",
       "    <tr>\n",
       "      <th>2</th>\n",
       "      <td>LINESTRING (-1631.497 -93495.082, -1654.363 -9...</td>\n",
       "      <td>19772139</td>\n",
       "      <td>7.276</td>\n",
       "      <td>7.276</td>\n",
       "      <td>0.008793</td>\n",
       "      <td>LINESTRING (-3834.470814415936 -95831.30337333...</td>\n",
       "    </tr>\n",
       "    <tr>\n",
       "      <th>2</th>\n",
       "      <td>LINESTRING (-1631.497 -93495.082, -1654.363 -9...</td>\n",
       "      <td>19772139</td>\n",
       "      <td>7.276</td>\n",
       "      <td>7.276</td>\n",
       "      <td>0.008793</td>\n",
       "      <td>LINESTRING (-3950.134774952491 -96217.83154857...</td>\n",
       "    </tr>\n",
       "    <tr>\n",
       "      <th>2</th>\n",
       "      <td>LINESTRING (-1631.497 -93495.082, -1654.363 -9...</td>\n",
       "      <td>19772139</td>\n",
       "      <td>7.276</td>\n",
       "      <td>7.276</td>\n",
       "      <td>0.008793</td>\n",
       "      <td>LINESTRING (-4090.846709604827 -96588.65273368...</td>\n",
       "    </tr>\n",
       "    <tr>\n",
       "      <th>2</th>\n",
       "      <td>LINESTRING (-1631.497 -93495.082, -1654.363 -9...</td>\n",
       "      <td>19772139</td>\n",
       "      <td>7.276</td>\n",
       "      <td>7.276</td>\n",
       "      <td>0.008793</td>\n",
       "      <td>LINESTRING (-3985.0711460521898 -97036.5342246...</td>\n",
       "    </tr>\n",
       "    <tr>\n",
       "      <th>2</th>\n",
       "      <td>LINESTRING (-1631.497 -93495.082, -1654.363 -9...</td>\n",
       "      <td>19772139</td>\n",
       "      <td>7.276</td>\n",
       "      <td>7.276</td>\n",
       "      <td>0.008793</td>\n",
       "      <td>LINESTRING (-4071.7124374186565 -97486.3260413...</td>\n",
       "    </tr>\n",
       "    <tr>\n",
       "      <th>2</th>\n",
       "      <td>LINESTRING (-1631.497 -93495.082, -1654.363 -9...</td>\n",
       "      <td>19772139</td>\n",
       "      <td>7.276</td>\n",
       "      <td>7.276</td>\n",
       "      <td>0.008793</td>\n",
       "      <td>LINESTRING (-3991.105910438107 -97863.81565203...</td>\n",
       "    </tr>\n",
       "    <tr>\n",
       "      <th>2</th>\n",
       "      <td>LINESTRING (-1631.497 -93495.082, -1654.363 -9...</td>\n",
       "      <td>19772139</td>\n",
       "      <td>7.276</td>\n",
       "      <td>7.276</td>\n",
       "      <td>0.008793</td>\n",
       "      <td>LINESTRING (-3784.351105468712 -98181.04178032...</td>\n",
       "    </tr>\n",
       "    <tr>\n",
       "      <th>3</th>\n",
       "      <td>LINESTRING (-3658.507 -98262.749, -3610.323 -9...</td>\n",
       "      <td>19772159</td>\n",
       "      <td>1.606</td>\n",
       "      <td>11.969</td>\n",
       "      <td>0.002696</td>\n",
       "      <td>LINESTRING (-3658.507173200879 -98262.74885682...</td>\n",
       "    </tr>\n",
       "    <tr>\n",
       "      <th>3</th>\n",
       "      <td>LINESTRING (-3658.507 -98262.749, -3610.323 -9...</td>\n",
       "      <td>19772159</td>\n",
       "      <td>1.606</td>\n",
       "      <td>11.969</td>\n",
       "      <td>0.002696</td>\n",
       "      <td>LINESTRING (-3706.592658985637 -98616.96093144...</td>\n",
       "    </tr>\n",
       "    <tr>\n",
       "      <th>3</th>\n",
       "      <td>LINESTRING (-3658.507 -98262.749, -3610.323 -9...</td>\n",
       "      <td>19772159</td>\n",
       "      <td>1.606</td>\n",
       "      <td>11.969</td>\n",
       "      <td>0.002696</td>\n",
       "      <td>LINESTRING (-4024.1158702857056 -98685.3514371...</td>\n",
       "    </tr>\n",
       "    <tr>\n",
       "      <th>3</th>\n",
       "      <td>LINESTRING (-3658.507 -98262.749, -3610.323 -9...</td>\n",
       "      <td>19772159</td>\n",
       "      <td>1.606</td>\n",
       "      <td>11.969</td>\n",
       "      <td>0.002696</td>\n",
       "      <td>LINESTRING (-4125.895514267587 -98973.76035935...</td>\n",
       "    </tr>\n",
       "    <tr>\n",
       "      <th>4</th>\n",
       "      <td>LINESTRING (-4194.469 -99052.851, -4204.607 -9...</td>\n",
       "      <td>19772169</td>\n",
       "      <td>1.354</td>\n",
       "      <td>38.094</td>\n",
       "      <td>0.001411</td>\n",
       "      <td>LINESTRING (-4194.469306062179 -99052.85069310...</td>\n",
       "    </tr>\n",
       "    <tr>\n",
       "      <th>4</th>\n",
       "      <td>LINESTRING (-4194.469 -99052.851, -4204.607 -9...</td>\n",
       "      <td>19772169</td>\n",
       "      <td>1.354</td>\n",
       "      <td>38.094</td>\n",
       "      <td>0.001411</td>\n",
       "      <td>LINESTRING (-4331.31010460078 -99059.248847846...</td>\n",
       "    </tr>\n",
       "    <tr>\n",
       "      <th>4</th>\n",
       "      <td>LINESTRING (-4194.469 -99052.851, -4204.607 -9...</td>\n",
       "      <td>19772169</td>\n",
       "      <td>1.354</td>\n",
       "      <td>38.094</td>\n",
       "      <td>0.001411</td>\n",
       "      <td>LINESTRING (-4550.124742800522 -99167.92479296...</td>\n",
       "    </tr>\n",
       "  </tbody>\n",
       "</table>\n",
       "</div>"
      ],
      "text/plain": [
       "                                            geometry     COMID  LENGTHKM  \\\n",
       "0  LINESTRING (-10270.103 -95036.427, -10407.048 ...  19772077     0.475   \n",
       "1  LINESTRING (-9965.485 -94739.319, -10003.511 -...  19772079     1.036   \n",
       "1  LINESTRING (-9965.485 -94739.319, -10003.511 -...  19772079     1.036   \n",
       "1  LINESTRING (-9965.485 -94739.319, -10003.511 -...  19772079     1.036   \n",
       "2  LINESTRING (-1631.497 -93495.082, -1654.363 -9...  19772139     7.276   \n",
       "2  LINESTRING (-1631.497 -93495.082, -1654.363 -9...  19772139     7.276   \n",
       "2  LINESTRING (-1631.497 -93495.082, -1654.363 -9...  19772139     7.276   \n",
       "2  LINESTRING (-1631.497 -93495.082, -1654.363 -9...  19772139     7.276   \n",
       "2  LINESTRING (-1631.497 -93495.082, -1654.363 -9...  19772139     7.276   \n",
       "2  LINESTRING (-1631.497 -93495.082, -1654.363 -9...  19772139     7.276   \n",
       "2  LINESTRING (-1631.497 -93495.082, -1654.363 -9...  19772139     7.276   \n",
       "2  LINESTRING (-1631.497 -93495.082, -1654.363 -9...  19772139     7.276   \n",
       "2  LINESTRING (-1631.497 -93495.082, -1654.363 -9...  19772139     7.276   \n",
       "2  LINESTRING (-1631.497 -93495.082, -1654.363 -9...  19772139     7.276   \n",
       "2  LINESTRING (-1631.497 -93495.082, -1654.363 -9...  19772139     7.276   \n",
       "2  LINESTRING (-1631.497 -93495.082, -1654.363 -9...  19772139     7.276   \n",
       "2  LINESTRING (-1631.497 -93495.082, -1654.363 -9...  19772139     7.276   \n",
       "2  LINESTRING (-1631.497 -93495.082, -1654.363 -9...  19772139     7.276   \n",
       "2  LINESTRING (-1631.497 -93495.082, -1654.363 -9...  19772139     7.276   \n",
       "3  LINESTRING (-3658.507 -98262.749, -3610.323 -9...  19772159     1.606   \n",
       "3  LINESTRING (-3658.507 -98262.749, -3610.323 -9...  19772159     1.606   \n",
       "3  LINESTRING (-3658.507 -98262.749, -3610.323 -9...  19772159     1.606   \n",
       "3  LINESTRING (-3658.507 -98262.749, -3610.323 -9...  19772159     1.606   \n",
       "4  LINESTRING (-4194.469 -99052.851, -4204.607 -9...  19772169     1.354   \n",
       "4  LINESTRING (-4194.469 -99052.851, -4204.607 -9...  19772169     1.354   \n",
       "4  LINESTRING (-4194.469 -99052.851, -4204.607 -9...  19772169     1.354   \n",
       "\n",
       "   ArbolateSu     SLOPE                                           segments  \n",
       "0     565.812  0.002926  LINESTRING (-10270.103356920677 -95036.4274285...  \n",
       "1     557.847  0.001364  LINESTRING (-9965.485493607392 -94739.31932203...  \n",
       "1     557.847  0.001364  LINESTRING (-10447.949805556089 -94839.2488464...  \n",
       "1     557.847  0.001364  LINESTRING (-10709.804471029087 -95202.9135867...  \n",
       "2       7.276  0.008793  LINESTRING (-1631.497186241981 -93495.08193291...  \n",
       "2       7.276  0.008793  LINESTRING (-1965.2998117039892 -93656.1385713...  \n",
       "2       7.276  0.008793  LINESTRING (-2355.5249434694515 -93863.4472377...  \n",
       "2       7.276  0.008793  LINESTRING (-2461.256037580678 -94286.63322034...  \n",
       "2       7.276  0.008793  LINESTRING (-2635.3482234026783 -94749.9276580...  \n",
       "2       7.276  0.008793  LINESTRING (-2901.797741717885 -95170.07104403...  \n",
       "2       7.276  0.008793  LINESTRING (-3183.280035104856 -95486.69986120...  \n",
       "2       7.276  0.008793  LINESTRING (-3633.878469151591 -95476.58283144...  \n",
       "2       7.276  0.008793  LINESTRING (-3834.470814415936 -95831.30337333...  \n",
       "2       7.276  0.008793  LINESTRING (-3950.134774952491 -96217.83154857...  \n",
       "2       7.276  0.008793  LINESTRING (-4090.846709604827 -96588.65273368...  \n",
       "2       7.276  0.008793  LINESTRING (-3985.0711460521898 -97036.5342246...  \n",
       "2       7.276  0.008793  LINESTRING (-4071.7124374186565 -97486.3260413...  \n",
       "2       7.276  0.008793  LINESTRING (-3991.105910438107 -97863.81565203...  \n",
       "2       7.276  0.008793  LINESTRING (-3784.351105468712 -98181.04178032...  \n",
       "3      11.969  0.002696  LINESTRING (-3658.507173200879 -98262.74885682...  \n",
       "3      11.969  0.002696  LINESTRING (-3706.592658985637 -98616.96093144...  \n",
       "3      11.969  0.002696  LINESTRING (-4024.1158702857056 -98685.3514371...  \n",
       "3      11.969  0.002696  LINESTRING (-4125.895514267587 -98973.76035935...  \n",
       "4      38.094  0.001411  LINESTRING (-4194.469306062179 -99052.85069310...  \n",
       "4      38.094  0.001411  LINESTRING (-4331.31010460078 -99059.248847846...  \n",
       "4      38.094  0.001411  LINESTRING (-4550.124742800522 -99167.92479296...  "
      ]
     },
     "execution_count": 233,
     "metadata": {},
     "output_type": "execute_result"
    }
   ],
   "source": [
    "top.explode('segments')"
   ]
  },
  {
   "cell_type": "code",
   "execution_count": null,
   "id": "df4ece81",
   "metadata": {},
   "outputs": [],
   "source": []
  }
 ],
 "metadata": {
  "kernelspec": {
   "display_name": "valleys",
   "language": "python",
   "name": "valleys"
  },
  "language_info": {
   "codemirror_mode": {
    "name": "ipython",
    "version": 3
   },
   "file_extension": ".py",
   "mimetype": "text/x-python",
   "name": "python",
   "nbconvert_exporter": "python",
   "pygments_lexer": "ipython3",
   "version": "3.10.9"
  }
 },
 "nbformat": 4,
 "nbformat_minor": 5
}
