{
 "cells": [
  {
   "cell_type": "markdown",
   "id": "e5e802aa",
   "metadata": {},
   "source": [
    "# Split the River Network\n",
    "\n",
    "This notebook demonstrates a workflow for splitting the NHD river network into equal length segments.\n",
    "NHD provides a dataset of all rivers in california split by segment and given a unique id (COMID).\n",
    "For valley characterization we aren't going to characterize the valley of the full segments, instead we split into smaller lengths of equal size.\n",
    "\n",
    "\n",
    "The equal lengths will be refered to as 'lengths', and the river segments as 'segments'. We want our lengths to be split from each segment independently. Meaning, we don't continue a length across segments.\n",
    "\n",
    "Note, after reprojecting to Albers and computing the length of the line segments they are slightly different from the length attribute provided with the NHD, but seem close enough to not worry.\n",
    "\n",
    "\n",
    "Questions:\n",
    "- Should we do equal length sections, or just work at the segment level? (in which case we interpolate or normalize the lengths some other way before doing the comparisons that are sensitive to length)\n",
    "- what to do with segments < length?\n",
    "- what to do with the remainder? Could do leave as remainder (so small final length), could divide equally between all the lengths, could divide equally between the first and last length\n",
    "- the edges of each segment are where tributaries meet and probably have different topographies, should they be filtered out via a buffer?\n",
    "- what is the beginning and end of a segment? did they go out -> in or random or in -> out?\n",
    "- from the eda, it seems a mean of 1.9km and a 25% of 490m, what length segments should we use?"
   ]
  },
  {
   "cell_type": "code",
   "execution_count": 19,
   "id": "b059bd52",
   "metadata": {},
   "outputs": [],
   "source": [
    "import glob\n",
    "\n",
    "import geopandas as gpd\n",
    "import numpy as np\n",
    "import matplotlib.pyplot as plt\n",
    "import pandas as pd\n",
    "from pygeohydro import WBD\n",
    "from pynhd import NHD\n",
    "from shapely import unary_union\n",
    "from shapely.geometry import box, LineString, MultiPoint\n",
    "from shapely.ops import split\n",
    "from shapely.ops import snap"
   ]
  },
  {
   "cell_type": "code",
   "execution_count": 6,
   "id": "14ea2fc3",
   "metadata": {},
   "outputs": [],
   "source": [
    "def random_cmap(length=10):\n",
    "    vals = np.linspace(0,1,length)\n",
    "    np.random.shuffle(vals)\n",
    "    cmap = plt.cm.colors.ListedColormap(plt.cm.jet(vals))\n",
    "    return cmap"
   ]
  },
  {
   "cell_type": "code",
   "execution_count": 12,
   "id": "82b41856",
   "metadata": {},
   "outputs": [],
   "source": [
    "aoi = box(-122.4484, 37.0866, -122.34, 37.15)"
   ]
  },
  {
   "cell_type": "code",
   "execution_count": 13,
   "id": "d275d139",
   "metadata": {},
   "outputs": [
    {
     "name": "stderr",
     "output_type": "stream",
     "text": [
      "/Users/arthurkoehl/Library/Caches/pypoetry/virtualenvs/valleys-apqonAG6-py3.10/lib/python3.10/site-packages/geopandas/geoseries.py:645: FutureWarning: the convert_dtype parameter is deprecated and will be removed in a future version.  Do ``ser.astype(object).apply()`` instead if you want ``convert_dtype=False``.\n",
      "  result = super().apply(func, convert_dtype=convert_dtype, args=args, **kwargs)\n"
     ]
    },
    {
     "data": {
      "text/html": [
       "<div>\n",
       "<style scoped>\n",
       "    .dataframe tbody tr th:only-of-type {\n",
       "        vertical-align: middle;\n",
       "    }\n",
       "\n",
       "    .dataframe tbody tr th {\n",
       "        vertical-align: top;\n",
       "    }\n",
       "\n",
       "    .dataframe thead th {\n",
       "        text-align: right;\n",
       "    }\n",
       "</style>\n",
       "<table border=\"1\" class=\"dataframe\">\n",
       "  <thead>\n",
       "    <tr style=\"text-align: right;\">\n",
       "      <th></th>\n",
       "      <th>geometry</th>\n",
       "      <th>COMID</th>\n",
       "      <th>LENGTHKM</th>\n",
       "      <th>length</th>\n",
       "    </tr>\n",
       "  </thead>\n",
       "  <tbody>\n",
       "    <tr>\n",
       "      <th>0</th>\n",
       "      <td>LINESTRING (-208147.883 -94216.857, -208105.02...</td>\n",
       "      <td>17682720</td>\n",
       "      <td>1.454</td>\n",
       "      <td>1451.903891</td>\n",
       "    </tr>\n",
       "    <tr>\n",
       "      <th>1</th>\n",
       "      <td>LINESTRING (-203019.711 -90697.496, -203026.23...</td>\n",
       "      <td>17682270</td>\n",
       "      <td>8.715</td>\n",
       "      <td>8719.223856</td>\n",
       "    </tr>\n",
       "    <tr>\n",
       "      <th>2</th>\n",
       "      <td>LINESTRING (-209479.615 -92070.445, -209475.17...</td>\n",
       "      <td>17682718</td>\n",
       "      <td>3.718</td>\n",
       "      <td>3713.397336</td>\n",
       "    </tr>\n",
       "  </tbody>\n",
       "</table>\n",
       "</div>"
      ],
      "text/plain": [
       "                                            geometry     COMID  LENGTHKM  \\\n",
       "0  LINESTRING (-208147.883 -94216.857, -208105.02...  17682720     1.454   \n",
       "1  LINESTRING (-203019.711 -90697.496, -203026.23...  17682270     8.715   \n",
       "2  LINESTRING (-209479.615 -92070.445, -209475.17...  17682718     3.718   \n",
       "\n",
       "        length  \n",
       "0  1451.903891  \n",
       "1  8719.223856  \n",
       "2  3713.397336  "
      ]
     },
     "execution_count": 13,
     "metadata": {},
     "output_type": "execute_result"
    }
   ],
   "source": [
    "fields = [\n",
    "    'COMID',\n",
    "    'LENGTHKM',\n",
    "]\n",
    "\n",
    "nhd = NHD('flowline_mr', outfields = fields)\n",
    "flowlines = nhd.bygeom(aoi, geo_crs=4326)\n",
    "flowlines = flowlines.to_crs(3310)\n",
    "flowlines['length'] = flowlines['geometry'].apply(lambda x: x.length)\n",
    "flowlines"
   ]
  },
  {
   "cell_type": "code",
   "execution_count": 16,
   "id": "fcde936b",
   "metadata": {},
   "outputs": [
    {
     "data": {
      "text/plain": [
       "<Axes: >"
      ]
     },
     "execution_count": 16,
     "metadata": {},
     "output_type": "execute_result"
    },
    {
     "data": {
      "image/png": "[encoded data removed]",
      "text/plain": [
       "<Figure size 640x480 with 1 Axes>"
      ]
     },
     "metadata": {},
     "output_type": "display_data"
    }
   ],
   "source": [
    "flowlines.plot(cmap=random_cmap())"
   ]
  },
  {
   "cell_type": "code",
   "execution_count": 20,
   "id": "c2872162",
   "metadata": {},
   "outputs": [],
   "source": [
    "def segment(line, length=500, method=\"remainder\"):\n",
    "    # https://gis.stackexchange.com/questions/386482/splitting-line-geodataframe-basing-on-given-lengths/386527#386527\n",
    "    # https://github.com/shapely/shapely/issues/1058#issuecomment-755016543\n",
    "    \n",
    "    if method not in ['remainder', 'equal']:\n",
    "        raise ValueError(f\"method must be 'remainder' or 'equal' when {method} was provided\")\n",
    "    \n",
    "    if method == \"remainder\":\n",
    "        distances = np.arange(0, line.length, length)\n",
    "    elif method == \"equal\":\n",
    "        nparts = line.length // length\n",
    "        if nparts == 0:\n",
    "            distances = np.arange(0, line.length, line.length)\n",
    "        else:        \n",
    "            distances = np.arange(0, line.length, line.length/nparts)\n",
    "        \n",
    "    points = [line.interpolate(distance) for distance in distances] + [line.boundary.geoms[1]]\n",
    "    points = unary_union(points)\n",
    "    snapped = snap(line, points, tolerance=0.01) \n",
    "    return list(split(snapped, points).geoms)"
   ]
  },
  {
   "cell_type": "code",
   "execution_count": 24,
   "id": "a89d573c",
   "metadata": {},
   "outputs": [
    {
     "name": "stderr",
     "output_type": "stream",
     "text": [
      "/Users/arthurkoehl/Library/Caches/pypoetry/virtualenvs/valleys-apqonAG6-py3.10/lib/python3.10/site-packages/geopandas/geoseries.py:645: FutureWarning: the convert_dtype parameter is deprecated and will be removed in a future version.  Do ``ser.astype(object).apply()`` instead if you want ``convert_dtype=False``.\n",
      "  result = super().apply(func, convert_dtype=convert_dtype, args=args, **kwargs)\n",
      "/Users/arthurkoehl/Library/Caches/pypoetry/virtualenvs/valleys-apqonAG6-py3.10/lib/python3.10/site-packages/geopandas/geoseries.py:645: FutureWarning: the convert_dtype parameter is deprecated and will be removed in a future version.  Do ``ser.astype(object).apply()`` instead if you want ``convert_dtype=False``.\n",
      "  result = super().apply(func, convert_dtype=convert_dtype, args=args, **kwargs)\n"
     ]
    },
    {
     "data": {
      "text/html": [
       "<div>\n",
       "<style scoped>\n",
       "    .dataframe tbody tr th:only-of-type {\n",
       "        vertical-align: middle;\n",
       "    }\n",
       "\n",
       "    .dataframe tbody tr th {\n",
       "        vertical-align: top;\n",
       "    }\n",
       "\n",
       "    .dataframe thead th {\n",
       "        text-align: right;\n",
       "    }\n",
       "</style>\n",
       "<table border=\"1\" class=\"dataframe\">\n",
       "  <thead>\n",
       "    <tr style=\"text-align: right;\">\n",
       "      <th></th>\n",
       "      <th>geometry</th>\n",
       "      <th>COMID</th>\n",
       "      <th>LENGTHKM</th>\n",
       "      <th>length</th>\n",
       "      <th>new_length</th>\n",
       "    </tr>\n",
       "  </thead>\n",
       "  <tbody>\n",
       "    <tr>\n",
       "      <th>0</th>\n",
       "      <td>LINESTRING (-208147.883 -94216.857, -208105.02...</td>\n",
       "      <td>17682720</td>\n",
       "      <td>1.454</td>\n",
       "      <td>1451.903891</td>\n",
       "      <td>1000.000000</td>\n",
       "    </tr>\n",
       "    <tr>\n",
       "      <th>0</th>\n",
       "      <td>LINESTRING (-207646.564 -94984.826, -207572.08...</td>\n",
       "      <td>17682720</td>\n",
       "      <td>1.454</td>\n",
       "      <td>1451.903891</td>\n",
       "      <td>451.903891</td>\n",
       "    </tr>\n",
       "    <tr>\n",
       "      <th>1</th>\n",
       "      <td>LINESTRING (-203019.711 -90697.496, -203026.23...</td>\n",
       "      <td>17682270</td>\n",
       "      <td>8.715</td>\n",
       "      <td>8719.223856</td>\n",
       "      <td>1000.000000</td>\n",
       "    </tr>\n",
       "    <tr>\n",
       "      <th>1</th>\n",
       "      <td>LINESTRING (-203332.247 -91596.923, -203370.81...</td>\n",
       "      <td>17682270</td>\n",
       "      <td>8.715</td>\n",
       "      <td>8719.223856</td>\n",
       "      <td>1000.000000</td>\n",
       "    </tr>\n",
       "    <tr>\n",
       "      <th>1</th>\n",
       "      <td>LINESTRING (-204214.653 -91590.975, -204237.38...</td>\n",
       "      <td>17682270</td>\n",
       "      <td>8.715</td>\n",
       "      <td>8719.223856</td>\n",
       "      <td>1000.000000</td>\n",
       "    </tr>\n",
       "    <tr>\n",
       "      <th>1</th>\n",
       "      <td>LINESTRING (-205041.913 -91532.656, -205086.02...</td>\n",
       "      <td>17682270</td>\n",
       "      <td>8.715</td>\n",
       "      <td>8719.223856</td>\n",
       "      <td>1000.000000</td>\n",
       "    </tr>\n",
       "    <tr>\n",
       "      <th>1</th>\n",
       "      <td>LINESTRING (-205735.230 -91847.565, -205860.49...</td>\n",
       "      <td>17682270</td>\n",
       "      <td>8.715</td>\n",
       "      <td>8719.223856</td>\n",
       "      <td>1000.000000</td>\n",
       "    </tr>\n",
       "    <tr>\n",
       "      <th>1</th>\n",
       "      <td>LINESTRING (-206665.496 -92090.036, -206717.35...</td>\n",
       "      <td>17682270</td>\n",
       "      <td>8.715</td>\n",
       "      <td>8719.223856</td>\n",
       "      <td>1000.000000</td>\n",
       "    </tr>\n",
       "    <tr>\n",
       "      <th>1</th>\n",
       "      <td>LINESTRING (-207589.412 -91945.682, -207590.94...</td>\n",
       "      <td>17682270</td>\n",
       "      <td>8.715</td>\n",
       "      <td>8719.223856</td>\n",
       "      <td>1000.000000</td>\n",
       "    </tr>\n",
       "    <tr>\n",
       "      <th>1</th>\n",
       "      <td>LINESTRING (-207959.265 -92666.739, -207960.52...</td>\n",
       "      <td>17682270</td>\n",
       "      <td>8.715</td>\n",
       "      <td>8719.223856</td>\n",
       "      <td>1000.000000</td>\n",
       "    </tr>\n",
       "    <tr>\n",
       "      <th>1</th>\n",
       "      <td>LINESTRING (-207986.633 -93573.171, -207948.71...</td>\n",
       "      <td>17682270</td>\n",
       "      <td>8.715</td>\n",
       "      <td>8719.223856</td>\n",
       "      <td>719.223856</td>\n",
       "    </tr>\n",
       "    <tr>\n",
       "      <th>2</th>\n",
       "      <td>LINESTRING (-209479.615 -92070.445, -209475.17...</td>\n",
       "      <td>17682718</td>\n",
       "      <td>3.718</td>\n",
       "      <td>3713.397336</td>\n",
       "      <td>1000.000000</td>\n",
       "    </tr>\n",
       "    <tr>\n",
       "      <th>2</th>\n",
       "      <td>LINESTRING (-209282.228 -93025.166, -209267.13...</td>\n",
       "      <td>17682718</td>\n",
       "      <td>3.718</td>\n",
       "      <td>3713.397336</td>\n",
       "      <td>1000.000000</td>\n",
       "    </tr>\n",
       "    <tr>\n",
       "      <th>2</th>\n",
       "      <td>LINESTRING (-209232.015 -93748.273, -209174.62...</td>\n",
       "      <td>17682718</td>\n",
       "      <td>3.718</td>\n",
       "      <td>3713.397336</td>\n",
       "      <td>1000.000000</td>\n",
       "    </tr>\n",
       "    <tr>\n",
       "      <th>2</th>\n",
       "      <td>LINESTRING (-208567.765 -94066.506, -208531.21...</td>\n",
       "      <td>17682718</td>\n",
       "      <td>3.718</td>\n",
       "      <td>3713.397336</td>\n",
       "      <td>713.397336</td>\n",
       "    </tr>\n",
       "  </tbody>\n",
       "</table>\n",
       "</div>"
      ],
      "text/plain": [
       "                                            geometry     COMID  LENGTHKM  \\\n",
       "0  LINESTRING (-208147.883 -94216.857, -208105.02...  17682720     1.454   \n",
       "0  LINESTRING (-207646.564 -94984.826, -207572.08...  17682720     1.454   \n",
       "1  LINESTRING (-203019.711 -90697.496, -203026.23...  17682270     8.715   \n",
       "1  LINESTRING (-203332.247 -91596.923, -203370.81...  17682270     8.715   \n",
       "1  LINESTRING (-204214.653 -91590.975, -204237.38...  17682270     8.715   \n",
       "1  LINESTRING (-205041.913 -91532.656, -205086.02...  17682270     8.715   \n",
       "1  LINESTRING (-205735.230 -91847.565, -205860.49...  17682270     8.715   \n",
       "1  LINESTRING (-206665.496 -92090.036, -206717.35...  17682270     8.715   \n",
       "1  LINESTRING (-207589.412 -91945.682, -207590.94...  17682270     8.715   \n",
       "1  LINESTRING (-207959.265 -92666.739, -207960.52...  17682270     8.715   \n",
       "1  LINESTRING (-207986.633 -93573.171, -207948.71...  17682270     8.715   \n",
       "2  LINESTRING (-209479.615 -92070.445, -209475.17...  17682718     3.718   \n",
       "2  LINESTRING (-209282.228 -93025.166, -209267.13...  17682718     3.718   \n",
       "2  LINESTRING (-209232.015 -93748.273, -209174.62...  17682718     3.718   \n",
       "2  LINESTRING (-208567.765 -94066.506, -208531.21...  17682718     3.718   \n",
       "\n",
       "        length   new_length  \n",
       "0  1451.903891  1000.000000  \n",
       "0  1451.903891   451.903891  \n",
       "1  8719.223856  1000.000000  \n",
       "1  8719.223856  1000.000000  \n",
       "1  8719.223856  1000.000000  \n",
       "1  8719.223856  1000.000000  \n",
       "1  8719.223856  1000.000000  \n",
       "1  8719.223856  1000.000000  \n",
       "1  8719.223856  1000.000000  \n",
       "1  8719.223856  1000.000000  \n",
       "1  8719.223856   719.223856  \n",
       "2  3713.397336  1000.000000  \n",
       "2  3713.397336  1000.000000  \n",
       "2  3713.397336  1000.000000  \n",
       "2  3713.397336   713.397336  "
      ]
     },
     "execution_count": 24,
     "metadata": {},
     "output_type": "execute_result"
    }
   ],
   "source": [
    "segments = flowlines.copy()\n",
    "segments['split'] = segments['geometry'].apply(segment, length=1000, method='remainder')\n",
    "segments = segments.explode('split')\n",
    "segments['geometry'] = segments['split']\n",
    "segments = segments[['geometry', 'COMID', 'LENGTHKM', 'length']]\n",
    "segments['new_length'] = segments['geometry'].apply(lambda x: x.length)\n",
    "segments"
   ]
  },
  {
   "cell_type": "code",
   "execution_count": 32,
   "id": "acf86377",
   "metadata": {},
   "outputs": [
    {
     "data": {
      "text/plain": [
       "<Axes: >"
      ]
     },
     "execution_count": 32,
     "metadata": {},
     "output_type": "execute_result"
    },
    {
     "data": {
      "image/png": "[encoded data removed]",
      "text/plain": [
       "<Figure size 640x480 with 1 Axes>"
      ]
     },
     "metadata": {},
     "output_type": "display_data"
    }
   ],
   "source": [
    "segments['geometry'].plot(cmap=random_cmap(25))"
   ]
  }
 ],
 "metadata": {
  "kernelspec": {
   "display_name": "valleys",
   "language": "python",
   "name": "valleys"
  },
  "language_info": {
   "codemirror_mode": {
    "name": "ipython",
    "version": 3
   },
   "file_extension": ".py",
   "mimetype": "text/x-python",
   "name": "python",
   "nbconvert_exporter": "python",
   "pygments_lexer": "ipython3",
   "version": "3.10.9"
  }
 },
 "nbformat": 4,
 "nbformat_minor": 5
}
