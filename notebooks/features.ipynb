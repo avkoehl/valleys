{
 "cells": [
  {
   "cell_type": "markdown",
   "id": "31da79c0",
   "metadata": {},
   "source": [
    "# given a valley, extract the features"
   ]
  },
  {
   "cell_type": "code",
   "execution_count": null,
   "id": "3a320b55",
   "metadata": {},
   "outputs": [],
   "source": []
  }
 ],
 "metadata": {
  "kernelspec": {
   "display_name": "valleys",
   "language": "python",
   "name": "valleys"
  },
  "language_info": {
   "codemirror_mode": {
    "name": "ipython",
    "version": 3
   },
   "file_extension": ".py",
   "mimetype": "text/x-python",
   "name": "python",
   "nbconvert_exporter": "python",
   "pygments_lexer": "ipython3",
   "version": "3.10.9"
  }
 },
 "nbformat": 4,
 "nbformat_minor": 5
}
